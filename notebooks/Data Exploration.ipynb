{
 "cells": [
  {
   "cell_type": "markdown",
   "metadata": {},
   "source": [
    "## Final Project\n",
    "\n",
    "By Evan Richardson\n",
    "\n",
    "I've enjoyed chess for a long time and have wanted to dive into machine learning in the deep end right away.  For this project, I would like to analyze the position of the pieces for the most likely outcome given equal skilled players.  In order to gather the data for this project, I will initially load PGN(portable game notation for games) data gathered from https://www.ficsgames.org/download.html for games above 2000 rating.  From this data, I created a a data loader to interpret each move and create a snapshot of the game after each move, and hopefully from this project I can create a model that will predict who will likely win from the given state of the game."
   ]
  },
  {
   "cell_type": "code",
   "execution_count": 19,
   "metadata": {},
   "outputs": [],
   "source": [
    "import numpy as np\n",
    "import pandas as pd\n",
    "import matplotlib.pyplot as plt\n",
    "import seaborn as sns\n",
    "\n",
    "from sklearn.ensemble import RandomForestRegressor\n",
    "from sklearn.linear_model import SGDRegressor\n",
    "from sklearn.linear_model import SGDClassifier\n",
    "from sklearn.metrics import accuracy_score\n",
    "from sklearn.metrics import confusion_matrix\n",
    "from sklearn.metrics import log_loss\n",
    "from sklearn.metrics import mean_squared_error\n",
    "from sklearn.model_selection import train_test_split\n",
    "from sklearn.preprocessing import Imputer\n",
    "from sklearn.preprocessing import LabelEncoder\n",
    "from sklearn.preprocessing import StandardScaler\n",
    "from sklearn.tree import export_graphviz\n",
    "\n",
    "%matplotlib inline"
   ]
  },
  {
   "cell_type": "markdown",
   "metadata": {},
   "source": [
    "### Hypothesis\n",
    "\n",
    "From this project, I hope to find which positions are the best to be in for chess and the probability of wins given these positions.  This can be applied to any chess systems, and in general feeds into my curiousity about the game.  I'm not aiming to create a predictive move model, just to find who is in the advantage in certain situations."
   ]
  },
  {
   "cell_type": "markdown",
   "metadata": {},
   "source": [
    "### Dataset\n",
    "\n",
    "All the data I have gathered is from https://www.ficsgames.org/download.html, which provides data for a lot of games, over 7000 in January 2018 alone.  The data provided however is not a csv, but PGN, so I wrote an interpreter to translate the moves in the file to actual board states after every move, and from these game states, I wrote the result for testing the data, the number of each piece for each player and their total number of pieces, along with the piece and the color of the piece for each square on the board, flattening the board object."
   ]
  },
  {
   "cell_type": "code",
   "execution_count": 3,
   "metadata": {},
   "outputs": [],
   "source": [
    "df = pd.read_csv('../data/201801_games_2.csv')"
   ]
  },
  {
   "cell_type": "code",
   "execution_count": 4,
   "metadata": {},
   "outputs": [
    {
     "data": {
      "text/html": [
       "<div>\n",
       "<style scoped>\n",
       "    .dataframe tbody tr th:only-of-type {\n",
       "        vertical-align: middle;\n",
       "    }\n",
       "\n",
       "    .dataframe tbody tr th {\n",
       "        vertical-align: top;\n",
       "    }\n",
       "\n",
       "    .dataframe thead th {\n",
       "        text-align: right;\n",
       "    }\n",
       "</style>\n",
       "<table border=\"1\" class=\"dataframe\">\n",
       "  <thead>\n",
       "    <tr style=\"text-align: right;\">\n",
       "      <th></th>\n",
       "      <th>Result</th>\n",
       "      <th>WhitePawns</th>\n",
       "      <th>BlackPawns</th>\n",
       "      <th>WhiteRooks</th>\n",
       "      <th>BlackRooks</th>\n",
       "      <th>WhiteBishops</th>\n",
       "      <th>BlackBishops</th>\n",
       "      <th>WhiteKnights</th>\n",
       "      <th>BlackKnights</th>\n",
       "      <th>WhiteQueen</th>\n",
       "      <th>...</th>\n",
       "      <th>d8_color</th>\n",
       "      <th>d8_piece</th>\n",
       "      <th>e8_color</th>\n",
       "      <th>e8_piece</th>\n",
       "      <th>f8_color</th>\n",
       "      <th>f8_piece</th>\n",
       "      <th>g8_color</th>\n",
       "      <th>g8_piece</th>\n",
       "      <th>h8_color</th>\n",
       "      <th>h8_piece</th>\n",
       "    </tr>\n",
       "  </thead>\n",
       "  <tbody>\n",
       "    <tr>\n",
       "      <th>0</th>\n",
       "      <td>1.0</td>\n",
       "      <td>8</td>\n",
       "      <td>8</td>\n",
       "      <td>2</td>\n",
       "      <td>2</td>\n",
       "      <td>2</td>\n",
       "      <td>2</td>\n",
       "      <td>2</td>\n",
       "      <td>2</td>\n",
       "      <td>1</td>\n",
       "      <td>...</td>\n",
       "      <td>2.0</td>\n",
       "      <td>Q</td>\n",
       "      <td>2.0</td>\n",
       "      <td>K</td>\n",
       "      <td>2.0</td>\n",
       "      <td>B</td>\n",
       "      <td>2.0</td>\n",
       "      <td>N</td>\n",
       "      <td>2.0</td>\n",
       "      <td>R</td>\n",
       "    </tr>\n",
       "    <tr>\n",
       "      <th>1</th>\n",
       "      <td>1.0</td>\n",
       "      <td>8</td>\n",
       "      <td>8</td>\n",
       "      <td>2</td>\n",
       "      <td>2</td>\n",
       "      <td>2</td>\n",
       "      <td>2</td>\n",
       "      <td>2</td>\n",
       "      <td>2</td>\n",
       "      <td>1</td>\n",
       "      <td>...</td>\n",
       "      <td>2.0</td>\n",
       "      <td>Q</td>\n",
       "      <td>2.0</td>\n",
       "      <td>K</td>\n",
       "      <td>2.0</td>\n",
       "      <td>B</td>\n",
       "      <td>2.0</td>\n",
       "      <td>N</td>\n",
       "      <td>2.0</td>\n",
       "      <td>R</td>\n",
       "    </tr>\n",
       "    <tr>\n",
       "      <th>2</th>\n",
       "      <td>1.0</td>\n",
       "      <td>8</td>\n",
       "      <td>8</td>\n",
       "      <td>2</td>\n",
       "      <td>2</td>\n",
       "      <td>2</td>\n",
       "      <td>2</td>\n",
       "      <td>2</td>\n",
       "      <td>2</td>\n",
       "      <td>1</td>\n",
       "      <td>...</td>\n",
       "      <td>2.0</td>\n",
       "      <td>Q</td>\n",
       "      <td>2.0</td>\n",
       "      <td>K</td>\n",
       "      <td>2.0</td>\n",
       "      <td>B</td>\n",
       "      <td>2.0</td>\n",
       "      <td>N</td>\n",
       "      <td>2.0</td>\n",
       "      <td>R</td>\n",
       "    </tr>\n",
       "    <tr>\n",
       "      <th>3</th>\n",
       "      <td>1.0</td>\n",
       "      <td>8</td>\n",
       "      <td>8</td>\n",
       "      <td>2</td>\n",
       "      <td>2</td>\n",
       "      <td>2</td>\n",
       "      <td>2</td>\n",
       "      <td>2</td>\n",
       "      <td>2</td>\n",
       "      <td>1</td>\n",
       "      <td>...</td>\n",
       "      <td>2.0</td>\n",
       "      <td>Q</td>\n",
       "      <td>2.0</td>\n",
       "      <td>K</td>\n",
       "      <td>2.0</td>\n",
       "      <td>B</td>\n",
       "      <td>2.0</td>\n",
       "      <td>N</td>\n",
       "      <td>2.0</td>\n",
       "      <td>R</td>\n",
       "    </tr>\n",
       "    <tr>\n",
       "      <th>4</th>\n",
       "      <td>1.0</td>\n",
       "      <td>8</td>\n",
       "      <td>8</td>\n",
       "      <td>2</td>\n",
       "      <td>2</td>\n",
       "      <td>2</td>\n",
       "      <td>2</td>\n",
       "      <td>2</td>\n",
       "      <td>2</td>\n",
       "      <td>1</td>\n",
       "      <td>...</td>\n",
       "      <td>2.0</td>\n",
       "      <td>Q</td>\n",
       "      <td>2.0</td>\n",
       "      <td>K</td>\n",
       "      <td>2.0</td>\n",
       "      <td>B</td>\n",
       "      <td>2.0</td>\n",
       "      <td>N</td>\n",
       "      <td>2.0</td>\n",
       "      <td>R</td>\n",
       "    </tr>\n",
       "  </tbody>\n",
       "</table>\n",
       "<p>5 rows × 143 columns</p>\n",
       "</div>"
      ],
      "text/plain": [
       "   Result  WhitePawns  BlackPawns  WhiteRooks  BlackRooks  WhiteBishops  \\\n",
       "0     1.0           8           8           2           2             2   \n",
       "1     1.0           8           8           2           2             2   \n",
       "2     1.0           8           8           2           2             2   \n",
       "3     1.0           8           8           2           2             2   \n",
       "4     1.0           8           8           2           2             2   \n",
       "\n",
       "   BlackBishops  WhiteKnights  BlackKnights  WhiteQueen    ...     d8_color  \\\n",
       "0             2             2             2           1    ...          2.0   \n",
       "1             2             2             2           1    ...          2.0   \n",
       "2             2             2             2           1    ...          2.0   \n",
       "3             2             2             2           1    ...          2.0   \n",
       "4             2             2             2           1    ...          2.0   \n",
       "\n",
       "   d8_piece  e8_color  e8_piece  f8_color  f8_piece g8_color  g8_piece  \\\n",
       "0         Q       2.0         K       2.0         B      2.0         N   \n",
       "1         Q       2.0         K       2.0         B      2.0         N   \n",
       "2         Q       2.0         K       2.0         B      2.0         N   \n",
       "3         Q       2.0         K       2.0         B      2.0         N   \n",
       "4         Q       2.0         K       2.0         B      2.0         N   \n",
       "\n",
       "  h8_color  h8_piece  \n",
       "0      2.0         R  \n",
       "1      2.0         R  \n",
       "2      2.0         R  \n",
       "3      2.0         R  \n",
       "4      2.0         R  \n",
       "\n",
       "[5 rows x 143 columns]"
      ]
     },
     "execution_count": 4,
     "metadata": {},
     "output_type": "execute_result"
    }
   ],
   "source": [
    "df.head()"
   ]
  },
  {
   "cell_type": "code",
   "execution_count": 5,
   "metadata": {},
   "outputs": [
    {
     "data": {
      "text/plain": [
       "(498020, 143)"
      ]
     },
     "execution_count": 5,
     "metadata": {},
     "output_type": "execute_result"
    }
   ],
   "source": [
    "df.shape"
   ]
  },
  {
   "cell_type": "markdown",
   "metadata": {},
   "source": [
    "The color and piece columns are coded, with color having values of '' = Empty, 1 = White, and 2 = Black.\n",
    "\n",
    "Pieces are '' = Empty, P = Pawn, R = Rook, B = Bishop, N = Knight, Q = Queen, and K = King.\n",
    "\n",
    "The piece counts are continuous based on the number of pieces on the board for each side.\n",
    "\n",
    "Result also has the possibility to be 1 = White win, 0.5 = Draw, and 0 = Black win.  This leads to interesting possibilities for approaches as well, since I could likely use classification or regression depending on the approach.\n",
    "\n",
    "Classification can predict the winner, but regression has the advantage of being able to predict who is likely winning the game in the current board state."
   ]
  },
  {
   "cell_type": "markdown",
   "metadata": {},
   "source": [
    "### Data Preprocessing\n",
    "\n",
    "Since I created this dataset, all of the columns have value and don't need to be removed.  There are empty values for the squares where there isn't a piece, but these should still be empty, and when I convert them to one-hot encodings, the dummy columns will all be 0's.\n",
    "\n",
    "For each square, the color and piece are categorical, so I will create dummy variables to encode the column."
   ]
  },
  {
   "cell_type": "code",
   "execution_count": 6,
   "metadata": {},
   "outputs": [
    {
     "name": "stdout",
     "output_type": "stream",
     "text": [
      "['WhitePawns', 'BlackPawns', 'WhiteRooks', 'BlackRooks', 'WhiteBishops', 'BlackBishops', 'WhiteKnights', 'BlackKnights', 'WhiteQueen', 'BlackQueen', 'WhiteKing', 'BlackKing', 'WhiteTotal', 'BlackTotal']\n",
      "['a1_color', 'a1_piece', 'b1_color', 'b1_piece', 'c1_color', 'c1_piece', 'd1_color', 'd1_piece', 'e1_color', 'e1_piece', 'f1_color', 'f1_piece', 'g1_color', 'g1_piece', 'h1_color', 'h1_piece', 'a2_color', 'a2_piece', 'b2_color', 'b2_piece', 'c2_color', 'c2_piece', 'd2_color', 'd2_piece', 'e2_color', 'e2_piece', 'f2_color', 'f2_piece', 'g2_color', 'g2_piece', 'h2_color', 'h2_piece', 'a3_color', 'a3_piece', 'b3_color', 'b3_piece', 'c3_color', 'c3_piece', 'd3_color', 'd3_piece', 'e3_color', 'e3_piece', 'f3_color', 'f3_piece', 'g3_color', 'g3_piece', 'h3_color', 'h3_piece', 'a4_color', 'a4_piece', 'b4_color', 'b4_piece', 'c4_color', 'c4_piece', 'd4_color', 'd4_piece', 'e4_color', 'e4_piece', 'f4_color', 'f4_piece', 'g4_color', 'g4_piece', 'h4_color', 'h4_piece', 'a5_color', 'a5_piece', 'b5_color', 'b5_piece', 'c5_color', 'c5_piece', 'd5_color', 'd5_piece', 'e5_color', 'e5_piece', 'f5_color', 'f5_piece', 'g5_color', 'g5_piece', 'h5_color', 'h5_piece', 'a6_color', 'a6_piece', 'b6_color', 'b6_piece', 'c6_color', 'c6_piece', 'd6_color', 'd6_piece', 'e6_color', 'e6_piece', 'f6_color', 'f6_piece', 'g6_color', 'g6_piece', 'h6_color', 'h6_piece', 'a7_color', 'a7_piece', 'b7_color', 'b7_piece', 'c7_color', 'c7_piece', 'd7_color', 'd7_piece', 'e7_color', 'e7_piece', 'f7_color', 'f7_piece', 'g7_color', 'g7_piece', 'h7_color', 'h7_piece', 'a8_color', 'a8_piece', 'b8_color', 'b8_piece', 'c8_color', 'c8_piece', 'd8_color', 'd8_piece', 'e8_color', 'e8_piece', 'f8_color', 'f8_piece', 'g8_color', 'g8_piece', 'h8_color', 'h8_piece']\n"
     ]
    }
   ],
   "source": [
    "numerical_columns = list(df.columns[1:-128])\n",
    "print(numerical_columns)\n",
    "\n",
    "categorical_columns = list(df.columns[-128:])\n",
    "print(categorical_columns)"
   ]
  },
  {
   "cell_type": "markdown",
   "metadata": {},
   "source": [
    "I want to make sure all pieces and colors are represented in the dummy columns"
   ]
  },
  {
   "cell_type": "code",
   "execution_count": 7,
   "metadata": {},
   "outputs": [],
   "source": [
    "pieces = ['P', 'B', 'R', 'N', 'Q', 'K']\n",
    "colors = ['1.0', '2.0']"
   ]
  },
  {
   "cell_type": "code",
   "execution_count": 8,
   "metadata": {},
   "outputs": [],
   "source": [
    "def mapColumns(col_name, columns):\n",
    "    return list(map(lambda x: col_name + '_' + x, columns)) "
   ]
  },
  {
   "cell_type": "code",
   "execution_count": 9,
   "metadata": {},
   "outputs": [],
   "source": [
    "dummy_columns = {}\n",
    "for col_name in categorical_columns:\n",
    "    dummies = pd.get_dummies(df[col_name], prefix=col_name)\n",
    "    reindex_columns = mapColumns(col_name, pieces) if 'piece' in col_name else mapColumns(col_name, colors)\n",
    "    dummies = dummies.reindex(columns=reindex_columns, fill_value=0)\n",
    "    \n",
    "    dummy_columns[col_name] = dummies.columns.values\n",
    "    df = df.merge(dummies, left_index=True, right_index=True)\n",
    "    df = df.drop(columns=col_name)"
   ]
  },
  {
   "cell_type": "code",
   "execution_count": 10,
   "metadata": {},
   "outputs": [
    {
     "name": "stdout",
     "output_type": "stream",
     "text": [
      "a1_color ['a1_color_1.0' 'a1_color_2.0']\n",
      "a1_piece ['a1_piece_P' 'a1_piece_B' 'a1_piece_R' 'a1_piece_N' 'a1_piece_Q'\n",
      " 'a1_piece_K']\n",
      "b1_color ['b1_color_1.0' 'b1_color_2.0']\n",
      "b1_piece ['b1_piece_P' 'b1_piece_B' 'b1_piece_R' 'b1_piece_N' 'b1_piece_Q'\n",
      " 'b1_piece_K']\n",
      "c1_color ['c1_color_1.0' 'c1_color_2.0']\n",
      "c1_piece ['c1_piece_P' 'c1_piece_B' 'c1_piece_R' 'c1_piece_N' 'c1_piece_Q'\n",
      " 'c1_piece_K']\n",
      "d1_color ['d1_color_1.0' 'd1_color_2.0']\n",
      "d1_piece ['d1_piece_P' 'd1_piece_B' 'd1_piece_R' 'd1_piece_N' 'd1_piece_Q'\n",
      " 'd1_piece_K']\n",
      "e1_color ['e1_color_1.0' 'e1_color_2.0']\n",
      "e1_piece ['e1_piece_P' 'e1_piece_B' 'e1_piece_R' 'e1_piece_N' 'e1_piece_Q'\n",
      " 'e1_piece_K']\n",
      "f1_color ['f1_color_1.0' 'f1_color_2.0']\n",
      "f1_piece ['f1_piece_P' 'f1_piece_B' 'f1_piece_R' 'f1_piece_N' 'f1_piece_Q'\n",
      " 'f1_piece_K']\n",
      "g1_color ['g1_color_1.0' 'g1_color_2.0']\n",
      "g1_piece ['g1_piece_P' 'g1_piece_B' 'g1_piece_R' 'g1_piece_N' 'g1_piece_Q'\n",
      " 'g1_piece_K']\n",
      "h1_color ['h1_color_1.0' 'h1_color_2.0']\n",
      "h1_piece ['h1_piece_P' 'h1_piece_B' 'h1_piece_R' 'h1_piece_N' 'h1_piece_Q'\n",
      " 'h1_piece_K']\n",
      "a2_color ['a2_color_1.0' 'a2_color_2.0']\n",
      "a2_piece ['a2_piece_P' 'a2_piece_B' 'a2_piece_R' 'a2_piece_N' 'a2_piece_Q'\n",
      " 'a2_piece_K']\n",
      "b2_color ['b2_color_1.0' 'b2_color_2.0']\n",
      "b2_piece ['b2_piece_P' 'b2_piece_B' 'b2_piece_R' 'b2_piece_N' 'b2_piece_Q'\n",
      " 'b2_piece_K']\n",
      "c2_color ['c2_color_1.0' 'c2_color_2.0']\n",
      "c2_piece ['c2_piece_P' 'c2_piece_B' 'c2_piece_R' 'c2_piece_N' 'c2_piece_Q'\n",
      " 'c2_piece_K']\n",
      "d2_color ['d2_color_1.0' 'd2_color_2.0']\n",
      "d2_piece ['d2_piece_P' 'd2_piece_B' 'd2_piece_R' 'd2_piece_N' 'd2_piece_Q'\n",
      " 'd2_piece_K']\n",
      "e2_color ['e2_color_1.0' 'e2_color_2.0']\n",
      "e2_piece ['e2_piece_P' 'e2_piece_B' 'e2_piece_R' 'e2_piece_N' 'e2_piece_Q'\n",
      " 'e2_piece_K']\n",
      "f2_color ['f2_color_1.0' 'f2_color_2.0']\n",
      "f2_piece ['f2_piece_P' 'f2_piece_B' 'f2_piece_R' 'f2_piece_N' 'f2_piece_Q'\n",
      " 'f2_piece_K']\n",
      "g2_color ['g2_color_1.0' 'g2_color_2.0']\n",
      "g2_piece ['g2_piece_P' 'g2_piece_B' 'g2_piece_R' 'g2_piece_N' 'g2_piece_Q'\n",
      " 'g2_piece_K']\n",
      "h2_color ['h2_color_1.0' 'h2_color_2.0']\n",
      "h2_piece ['h2_piece_P' 'h2_piece_B' 'h2_piece_R' 'h2_piece_N' 'h2_piece_Q'\n",
      " 'h2_piece_K']\n",
      "a3_color ['a3_color_1.0' 'a3_color_2.0']\n",
      "a3_piece ['a3_piece_P' 'a3_piece_B' 'a3_piece_R' 'a3_piece_N' 'a3_piece_Q'\n",
      " 'a3_piece_K']\n",
      "b3_color ['b3_color_1.0' 'b3_color_2.0']\n",
      "b3_piece ['b3_piece_P' 'b3_piece_B' 'b3_piece_R' 'b3_piece_N' 'b3_piece_Q'\n",
      " 'b3_piece_K']\n",
      "c3_color ['c3_color_1.0' 'c3_color_2.0']\n",
      "c3_piece ['c3_piece_P' 'c3_piece_B' 'c3_piece_R' 'c3_piece_N' 'c3_piece_Q'\n",
      " 'c3_piece_K']\n",
      "d3_color ['d3_color_1.0' 'd3_color_2.0']\n",
      "d3_piece ['d3_piece_P' 'd3_piece_B' 'd3_piece_R' 'd3_piece_N' 'd3_piece_Q'\n",
      " 'd3_piece_K']\n",
      "e3_color ['e3_color_1.0' 'e3_color_2.0']\n",
      "e3_piece ['e3_piece_P' 'e3_piece_B' 'e3_piece_R' 'e3_piece_N' 'e3_piece_Q'\n",
      " 'e3_piece_K']\n",
      "f3_color ['f3_color_1.0' 'f3_color_2.0']\n",
      "f3_piece ['f3_piece_P' 'f3_piece_B' 'f3_piece_R' 'f3_piece_N' 'f3_piece_Q'\n",
      " 'f3_piece_K']\n",
      "g3_color ['g3_color_1.0' 'g3_color_2.0']\n",
      "g3_piece ['g3_piece_P' 'g3_piece_B' 'g3_piece_R' 'g3_piece_N' 'g3_piece_Q'\n",
      " 'g3_piece_K']\n",
      "h3_color ['h3_color_1.0' 'h3_color_2.0']\n",
      "h3_piece ['h3_piece_P' 'h3_piece_B' 'h3_piece_R' 'h3_piece_N' 'h3_piece_Q'\n",
      " 'h3_piece_K']\n",
      "a4_color ['a4_color_1.0' 'a4_color_2.0']\n",
      "a4_piece ['a4_piece_P' 'a4_piece_B' 'a4_piece_R' 'a4_piece_N' 'a4_piece_Q'\n",
      " 'a4_piece_K']\n",
      "b4_color ['b4_color_1.0' 'b4_color_2.0']\n",
      "b4_piece ['b4_piece_P' 'b4_piece_B' 'b4_piece_R' 'b4_piece_N' 'b4_piece_Q'\n",
      " 'b4_piece_K']\n",
      "c4_color ['c4_color_1.0' 'c4_color_2.0']\n",
      "c4_piece ['c4_piece_P' 'c4_piece_B' 'c4_piece_R' 'c4_piece_N' 'c4_piece_Q'\n",
      " 'c4_piece_K']\n",
      "d4_color ['d4_color_1.0' 'd4_color_2.0']\n",
      "d4_piece ['d4_piece_P' 'd4_piece_B' 'd4_piece_R' 'd4_piece_N' 'd4_piece_Q'\n",
      " 'd4_piece_K']\n",
      "e4_color ['e4_color_1.0' 'e4_color_2.0']\n",
      "e4_piece ['e4_piece_P' 'e4_piece_B' 'e4_piece_R' 'e4_piece_N' 'e4_piece_Q'\n",
      " 'e4_piece_K']\n",
      "f4_color ['f4_color_1.0' 'f4_color_2.0']\n",
      "f4_piece ['f4_piece_P' 'f4_piece_B' 'f4_piece_R' 'f4_piece_N' 'f4_piece_Q'\n",
      " 'f4_piece_K']\n",
      "g4_color ['g4_color_1.0' 'g4_color_2.0']\n",
      "g4_piece ['g4_piece_P' 'g4_piece_B' 'g4_piece_R' 'g4_piece_N' 'g4_piece_Q'\n",
      " 'g4_piece_K']\n",
      "h4_color ['h4_color_1.0' 'h4_color_2.0']\n",
      "h4_piece ['h4_piece_P' 'h4_piece_B' 'h4_piece_R' 'h4_piece_N' 'h4_piece_Q'\n",
      " 'h4_piece_K']\n",
      "a5_color ['a5_color_1.0' 'a5_color_2.0']\n",
      "a5_piece ['a5_piece_P' 'a5_piece_B' 'a5_piece_R' 'a5_piece_N' 'a5_piece_Q'\n",
      " 'a5_piece_K']\n",
      "b5_color ['b5_color_1.0' 'b5_color_2.0']\n",
      "b5_piece ['b5_piece_P' 'b5_piece_B' 'b5_piece_R' 'b5_piece_N' 'b5_piece_Q'\n",
      " 'b5_piece_K']\n",
      "c5_color ['c5_color_1.0' 'c5_color_2.0']\n",
      "c5_piece ['c5_piece_P' 'c5_piece_B' 'c5_piece_R' 'c5_piece_N' 'c5_piece_Q'\n",
      " 'c5_piece_K']\n",
      "d5_color ['d5_color_1.0' 'd5_color_2.0']\n",
      "d5_piece ['d5_piece_P' 'd5_piece_B' 'd5_piece_R' 'd5_piece_N' 'd5_piece_Q'\n",
      " 'd5_piece_K']\n",
      "e5_color ['e5_color_1.0' 'e5_color_2.0']\n",
      "e5_piece ['e5_piece_P' 'e5_piece_B' 'e5_piece_R' 'e5_piece_N' 'e5_piece_Q'\n",
      " 'e5_piece_K']\n",
      "f5_color ['f5_color_1.0' 'f5_color_2.0']\n",
      "f5_piece ['f5_piece_P' 'f5_piece_B' 'f5_piece_R' 'f5_piece_N' 'f5_piece_Q'\n",
      " 'f5_piece_K']\n",
      "g5_color ['g5_color_1.0' 'g5_color_2.0']\n",
      "g5_piece ['g5_piece_P' 'g5_piece_B' 'g5_piece_R' 'g5_piece_N' 'g5_piece_Q'\n",
      " 'g5_piece_K']\n",
      "h5_color ['h5_color_1.0' 'h5_color_2.0']\n",
      "h5_piece ['h5_piece_P' 'h5_piece_B' 'h5_piece_R' 'h5_piece_N' 'h5_piece_Q'\n",
      " 'h5_piece_K']\n",
      "a6_color ['a6_color_1.0' 'a6_color_2.0']\n",
      "a6_piece ['a6_piece_P' 'a6_piece_B' 'a6_piece_R' 'a6_piece_N' 'a6_piece_Q'\n",
      " 'a6_piece_K']\n",
      "b6_color ['b6_color_1.0' 'b6_color_2.0']\n",
      "b6_piece ['b6_piece_P' 'b6_piece_B' 'b6_piece_R' 'b6_piece_N' 'b6_piece_Q'\n",
      " 'b6_piece_K']\n",
      "c6_color ['c6_color_1.0' 'c6_color_2.0']\n",
      "c6_piece ['c6_piece_P' 'c6_piece_B' 'c6_piece_R' 'c6_piece_N' 'c6_piece_Q'\n",
      " 'c6_piece_K']\n",
      "d6_color ['d6_color_1.0' 'd6_color_2.0']\n",
      "d6_piece ['d6_piece_P' 'd6_piece_B' 'd6_piece_R' 'd6_piece_N' 'd6_piece_Q'\n",
      " 'd6_piece_K']\n",
      "e6_color ['e6_color_1.0' 'e6_color_2.0']\n",
      "e6_piece ['e6_piece_P' 'e6_piece_B' 'e6_piece_R' 'e6_piece_N' 'e6_piece_Q'\n",
      " 'e6_piece_K']\n",
      "f6_color ['f6_color_1.0' 'f6_color_2.0']\n",
      "f6_piece ['f6_piece_P' 'f6_piece_B' 'f6_piece_R' 'f6_piece_N' 'f6_piece_Q'\n",
      " 'f6_piece_K']\n",
      "g6_color ['g6_color_1.0' 'g6_color_2.0']\n",
      "g6_piece ['g6_piece_P' 'g6_piece_B' 'g6_piece_R' 'g6_piece_N' 'g6_piece_Q'\n",
      " 'g6_piece_K']\n",
      "h6_color ['h6_color_1.0' 'h6_color_2.0']\n",
      "h6_piece ['h6_piece_P' 'h6_piece_B' 'h6_piece_R' 'h6_piece_N' 'h6_piece_Q'\n",
      " 'h6_piece_K']\n",
      "a7_color ['a7_color_1.0' 'a7_color_2.0']\n",
      "a7_piece ['a7_piece_P' 'a7_piece_B' 'a7_piece_R' 'a7_piece_N' 'a7_piece_Q'\n",
      " 'a7_piece_K']\n",
      "b7_color ['b7_color_1.0' 'b7_color_2.0']\n",
      "b7_piece ['b7_piece_P' 'b7_piece_B' 'b7_piece_R' 'b7_piece_N' 'b7_piece_Q'\n",
      " 'b7_piece_K']\n",
      "c7_color ['c7_color_1.0' 'c7_color_2.0']\n",
      "c7_piece ['c7_piece_P' 'c7_piece_B' 'c7_piece_R' 'c7_piece_N' 'c7_piece_Q'\n",
      " 'c7_piece_K']\n",
      "d7_color ['d7_color_1.0' 'd7_color_2.0']\n",
      "d7_piece ['d7_piece_P' 'd7_piece_B' 'd7_piece_R' 'd7_piece_N' 'd7_piece_Q'\n",
      " 'd7_piece_K']\n",
      "e7_color ['e7_color_1.0' 'e7_color_2.0']\n",
      "e7_piece ['e7_piece_P' 'e7_piece_B' 'e7_piece_R' 'e7_piece_N' 'e7_piece_Q'\n",
      " 'e7_piece_K']\n",
      "f7_color ['f7_color_1.0' 'f7_color_2.0']\n",
      "f7_piece ['f7_piece_P' 'f7_piece_B' 'f7_piece_R' 'f7_piece_N' 'f7_piece_Q'\n",
      " 'f7_piece_K']\n",
      "g7_color ['g7_color_1.0' 'g7_color_2.0']\n",
      "g7_piece ['g7_piece_P' 'g7_piece_B' 'g7_piece_R' 'g7_piece_N' 'g7_piece_Q'\n",
      " 'g7_piece_K']\n",
      "h7_color ['h7_color_1.0' 'h7_color_2.0']\n",
      "h7_piece ['h7_piece_P' 'h7_piece_B' 'h7_piece_R' 'h7_piece_N' 'h7_piece_Q'\n",
      " 'h7_piece_K']\n",
      "a8_color ['a8_color_1.0' 'a8_color_2.0']\n",
      "a8_piece ['a8_piece_P' 'a8_piece_B' 'a8_piece_R' 'a8_piece_N' 'a8_piece_Q'\n",
      " 'a8_piece_K']\n",
      "b8_color ['b8_color_1.0' 'b8_color_2.0']\n",
      "b8_piece ['b8_piece_P' 'b8_piece_B' 'b8_piece_R' 'b8_piece_N' 'b8_piece_Q'\n",
      " 'b8_piece_K']\n",
      "c8_color ['c8_color_1.0' 'c8_color_2.0']\n",
      "c8_piece ['c8_piece_P' 'c8_piece_B' 'c8_piece_R' 'c8_piece_N' 'c8_piece_Q'\n",
      " 'c8_piece_K']\n",
      "d8_color ['d8_color_1.0' 'd8_color_2.0']\n",
      "d8_piece ['d8_piece_P' 'd8_piece_B' 'd8_piece_R' 'd8_piece_N' 'd8_piece_Q'\n",
      " 'd8_piece_K']\n",
      "e8_color ['e8_color_1.0' 'e8_color_2.0']\n",
      "e8_piece ['e8_piece_P' 'e8_piece_B' 'e8_piece_R' 'e8_piece_N' 'e8_piece_Q'\n",
      " 'e8_piece_K']\n",
      "f8_color ['f8_color_1.0' 'f8_color_2.0']\n",
      "f8_piece ['f8_piece_P' 'f8_piece_B' 'f8_piece_R' 'f8_piece_N' 'f8_piece_Q'\n",
      " 'f8_piece_K']\n",
      "g8_color ['g8_color_1.0' 'g8_color_2.0']\n",
      "g8_piece ['g8_piece_P' 'g8_piece_B' 'g8_piece_R' 'g8_piece_N' 'g8_piece_Q'\n",
      " 'g8_piece_K']\n",
      "h8_color ['h8_color_1.0' 'h8_color_2.0']\n",
      "h8_piece ['h8_piece_P' 'h8_piece_B' 'h8_piece_R' 'h8_piece_N' 'h8_piece_Q'\n",
      " 'h8_piece_K']\n"
     ]
    }
   ],
   "source": [
    "for col_name, dummies in dummy_columns.items():\n",
    "    print(col_name, dummies)"
   ]
  },
  {
   "cell_type": "code",
   "execution_count": 11,
   "metadata": {},
   "outputs": [
    {
     "data": {
      "text/html": [
       "<div>\n",
       "<style scoped>\n",
       "    .dataframe tbody tr th:only-of-type {\n",
       "        vertical-align: middle;\n",
       "    }\n",
       "\n",
       "    .dataframe tbody tr th {\n",
       "        vertical-align: top;\n",
       "    }\n",
       "\n",
       "    .dataframe thead th {\n",
       "        text-align: right;\n",
       "    }\n",
       "</style>\n",
       "<table border=\"1\" class=\"dataframe\">\n",
       "  <thead>\n",
       "    <tr style=\"text-align: right;\">\n",
       "      <th></th>\n",
       "      <th>Result</th>\n",
       "      <th>WhitePawns</th>\n",
       "      <th>BlackPawns</th>\n",
       "      <th>WhiteRooks</th>\n",
       "      <th>BlackRooks</th>\n",
       "      <th>WhiteBishops</th>\n",
       "      <th>BlackBishops</th>\n",
       "      <th>WhiteKnights</th>\n",
       "      <th>BlackKnights</th>\n",
       "      <th>WhiteQueen</th>\n",
       "      <th>...</th>\n",
       "      <th>g8_piece_Q</th>\n",
       "      <th>g8_piece_K</th>\n",
       "      <th>h8_color_1.0</th>\n",
       "      <th>h8_color_2.0</th>\n",
       "      <th>h8_piece_P</th>\n",
       "      <th>h8_piece_B</th>\n",
       "      <th>h8_piece_R</th>\n",
       "      <th>h8_piece_N</th>\n",
       "      <th>h8_piece_Q</th>\n",
       "      <th>h8_piece_K</th>\n",
       "    </tr>\n",
       "  </thead>\n",
       "  <tbody>\n",
       "    <tr>\n",
       "      <th>0</th>\n",
       "      <td>1.0</td>\n",
       "      <td>8</td>\n",
       "      <td>8</td>\n",
       "      <td>2</td>\n",
       "      <td>2</td>\n",
       "      <td>2</td>\n",
       "      <td>2</td>\n",
       "      <td>2</td>\n",
       "      <td>2</td>\n",
       "      <td>1</td>\n",
       "      <td>...</td>\n",
       "      <td>0</td>\n",
       "      <td>0</td>\n",
       "      <td>0</td>\n",
       "      <td>1</td>\n",
       "      <td>0</td>\n",
       "      <td>0</td>\n",
       "      <td>1</td>\n",
       "      <td>0</td>\n",
       "      <td>0</td>\n",
       "      <td>0</td>\n",
       "    </tr>\n",
       "    <tr>\n",
       "      <th>1</th>\n",
       "      <td>1.0</td>\n",
       "      <td>8</td>\n",
       "      <td>8</td>\n",
       "      <td>2</td>\n",
       "      <td>2</td>\n",
       "      <td>2</td>\n",
       "      <td>2</td>\n",
       "      <td>2</td>\n",
       "      <td>2</td>\n",
       "      <td>1</td>\n",
       "      <td>...</td>\n",
       "      <td>0</td>\n",
       "      <td>0</td>\n",
       "      <td>0</td>\n",
       "      <td>1</td>\n",
       "      <td>0</td>\n",
       "      <td>0</td>\n",
       "      <td>1</td>\n",
       "      <td>0</td>\n",
       "      <td>0</td>\n",
       "      <td>0</td>\n",
       "    </tr>\n",
       "    <tr>\n",
       "      <th>2</th>\n",
       "      <td>1.0</td>\n",
       "      <td>8</td>\n",
       "      <td>8</td>\n",
       "      <td>2</td>\n",
       "      <td>2</td>\n",
       "      <td>2</td>\n",
       "      <td>2</td>\n",
       "      <td>2</td>\n",
       "      <td>2</td>\n",
       "      <td>1</td>\n",
       "      <td>...</td>\n",
       "      <td>0</td>\n",
       "      <td>0</td>\n",
       "      <td>0</td>\n",
       "      <td>1</td>\n",
       "      <td>0</td>\n",
       "      <td>0</td>\n",
       "      <td>1</td>\n",
       "      <td>0</td>\n",
       "      <td>0</td>\n",
       "      <td>0</td>\n",
       "    </tr>\n",
       "    <tr>\n",
       "      <th>3</th>\n",
       "      <td>1.0</td>\n",
       "      <td>8</td>\n",
       "      <td>8</td>\n",
       "      <td>2</td>\n",
       "      <td>2</td>\n",
       "      <td>2</td>\n",
       "      <td>2</td>\n",
       "      <td>2</td>\n",
       "      <td>2</td>\n",
       "      <td>1</td>\n",
       "      <td>...</td>\n",
       "      <td>0</td>\n",
       "      <td>0</td>\n",
       "      <td>0</td>\n",
       "      <td>1</td>\n",
       "      <td>0</td>\n",
       "      <td>0</td>\n",
       "      <td>1</td>\n",
       "      <td>0</td>\n",
       "      <td>0</td>\n",
       "      <td>0</td>\n",
       "    </tr>\n",
       "    <tr>\n",
       "      <th>4</th>\n",
       "      <td>1.0</td>\n",
       "      <td>8</td>\n",
       "      <td>8</td>\n",
       "      <td>2</td>\n",
       "      <td>2</td>\n",
       "      <td>2</td>\n",
       "      <td>2</td>\n",
       "      <td>2</td>\n",
       "      <td>2</td>\n",
       "      <td>1</td>\n",
       "      <td>...</td>\n",
       "      <td>0</td>\n",
       "      <td>0</td>\n",
       "      <td>0</td>\n",
       "      <td>1</td>\n",
       "      <td>0</td>\n",
       "      <td>0</td>\n",
       "      <td>1</td>\n",
       "      <td>0</td>\n",
       "      <td>0</td>\n",
       "      <td>0</td>\n",
       "    </tr>\n",
       "  </tbody>\n",
       "</table>\n",
       "<p>5 rows × 527 columns</p>\n",
       "</div>"
      ],
      "text/plain": [
       "   Result  WhitePawns  BlackPawns  WhiteRooks  BlackRooks  WhiteBishops  \\\n",
       "0     1.0           8           8           2           2             2   \n",
       "1     1.0           8           8           2           2             2   \n",
       "2     1.0           8           8           2           2             2   \n",
       "3     1.0           8           8           2           2             2   \n",
       "4     1.0           8           8           2           2             2   \n",
       "\n",
       "   BlackBishops  WhiteKnights  BlackKnights  WhiteQueen     ...      \\\n",
       "0             2             2             2           1     ...       \n",
       "1             2             2             2           1     ...       \n",
       "2             2             2             2           1     ...       \n",
       "3             2             2             2           1     ...       \n",
       "4             2             2             2           1     ...       \n",
       "\n",
       "   g8_piece_Q  g8_piece_K  h8_color_1.0  h8_color_2.0  h8_piece_P  h8_piece_B  \\\n",
       "0           0           0             0             1           0           0   \n",
       "1           0           0             0             1           0           0   \n",
       "2           0           0             0             1           0           0   \n",
       "3           0           0             0             1           0           0   \n",
       "4           0           0             0             1           0           0   \n",
       "\n",
       "   h8_piece_R  h8_piece_N  h8_piece_Q  h8_piece_K  \n",
       "0           1           0           0           0  \n",
       "1           1           0           0           0  \n",
       "2           1           0           0           0  \n",
       "3           1           0           0           0  \n",
       "4           1           0           0           0  \n",
       "\n",
       "[5 rows x 527 columns]"
      ]
     },
     "execution_count": 11,
     "metadata": {},
     "output_type": "execute_result"
    }
   ],
   "source": [
    "df.head()"
   ]
  },
  {
   "cell_type": "markdown",
   "metadata": {},
   "source": [
    "### Data Analysis and Visualization\n",
    "\n",
    "I would like to find out a few things about the dataset so far:\n",
    "\n",
    "* The distribution of results\n",
    "* "
   ]
  },
  {
   "cell_type": "code",
   "execution_count": 16,
   "metadata": {},
   "outputs": [
    {
     "name": "stdout",
     "output_type": "stream",
     "text": [
      "1.0    205340\n",
      "0.0    189996\n",
      "0.5    102684\n",
      "Name: Result, dtype: int64\n"
     ]
    },
    {
     "data": {
      "text/plain": [
       "Text(0,0.5,'Number of Results')"
      ]
     },
     "execution_count": 16,
     "metadata": {},
     "output_type": "execute_result"
    },
    {
     "data": {
      "image/png": "[encoded data removed]",
      "text/plain": [
       "<Figure size 432x288 with 1 Axes>"
      ]
     },
     "metadata": {
      "needs_background": "light"
     },
     "output_type": "display_data"
    }
   ],
   "source": [
    "result_counts = df[\"Result\"].value_counts()\n",
    "print(result_counts)\n",
    "result_counts.plot.bar()\n",
    "plt.ylabel(\"Number of Results\", fontsize=16)"
   ]
  },
  {
   "cell_type": "markdown",
   "metadata": {},
   "source": [
    "From this initial exploration, we can see that white wins are the most prevalent among the dataset, but there is still a pretty good value of black wins and draws.  I also have not processed the whole dataset yet since there was so much to process, so as I get more in depth I should fully process and maybe process more data."
   ]
  },
  {
   "cell_type": "markdown",
   "metadata": {},
   "source": [
    "### Data Modeling and Prediction\n",
    "\n",
    "As a first pass, I'm going to try to model with linear regression, hopefully ending up with a model that returns a number between 0 and 1 to represent the probability that white or black will win the game."
   ]
  },
  {
   "cell_type": "code",
   "execution_count": 17,
   "metadata": {},
   "outputs": [
    {
     "name": "stdout",
     "output_type": "stream",
     "text": [
      "498020 373515 124505\n"
     ]
    }
   ],
   "source": [
    "df_train, df_test = train_test_split(df)\n",
    "print(df.shape[0], df_train.shape[0], df_test.shape[0])"
   ]
  },
  {
   "cell_type": "code",
   "execution_count": 18,
   "metadata": {},
   "outputs": [],
   "source": [
    "y_train = df_train[\"Result\"].values\n",
    "y_test = df_test[\"Result\"].values"
   ]
  },
  {
   "cell_type": "code",
   "execution_count": 19,
   "metadata": {},
   "outputs": [
    {
     "name": "stdout",
     "output_type": "stream",
     "text": [
      "Null Model MSE: 0.19827831389397432\n",
      "Null Model RMSE: 0.44528453138861035\n"
     ]
    }
   ],
   "source": [
    "zeros_train = np.zeros(df_train.shape)\n",
    "zeros_test = np.zeros(df_test.shape)\n",
    "null_lr = SGDRegressor(max_iter=2000)\n",
    "null_lr.fit(zeros_train, y_train)\n",
    "pred_result_null_test = null_lr.predict(zeros_test)\n",
    "null_mse = mean_squared_error(y_test, pred_result_null_test)\n",
    "null_rmse = np.sqrt(null_mse)\n",
    "\n",
    "print(\"Null Model MSE:\", null_mse)\n",
    "print(\"Null Model RMSE:\", null_rmse)"
   ]
  },
  {
   "cell_type": "code",
   "execution_count": 15,
   "metadata": {},
   "outputs": [],
   "source": [
    "def create_feature_matrices(df_train, df_test, selected_columns, dummy_columns):\n",
    "    \"\"\"\n",
    "    Creates feature matrices for the training and testing sets from the given dataframes.\n",
    "    The feature matrices are built from the columns given in selected columns.\n",
    "    \"\"\"\n",
    "    \n",
    "    # keep track of numerical features\n",
    "    numerical_trial_columns = []\n",
    "    \n",
    "    # keep track of dummy features for categorical variables\n",
    "    categorical_trial_columns = []\n",
    "    \n",
    "    # build feature lists\n",
    "    for col_name in selected_columns:\n",
    "        if col_name in dummy_columns:\n",
    "            categorical_trial_columns.extend(dummy_columns[col_name])\n",
    "        else:\n",
    "            numerical_trial_columns.append(col_name)\n",
    "\n",
    "    # transform numerical features\n",
    "    if len(numerical_trial_columns) > 0:\n",
    "        X_train_numerical = df_train[numerical_trial_columns].astype(\"float64\").values\n",
    "        X_test_numerical = df_test[numerical_trial_columns].astype(\"float64\").values\n",
    "    \n",
    "        scaler = StandardScaler()\n",
    "        X_train_numerical = scaler.fit_transform(X_train_numerical)\n",
    "        X_test_numerical = scaler.transform(X_test_numerical)\n",
    "    \n",
    "    # select categorical features\n",
    "    if len(categorical_trial_columns) > 0:\n",
    "        X_train_categorical = df_train[categorical_trial_columns].astype(\"float64\").values\n",
    "        X_test_categorical = df_test[categorical_trial_columns].astype(\"float64\").values\n",
    "    \n",
    "    # concatenate feature matrices\n",
    "    if len(numerical_trial_columns) > 0 and len(categorical_trial_columns) > 0:\n",
    "        X_train = np.hstack([X_train_numerical, X_train_categorical])\n",
    "        X_test = np.hstack([X_test_numerical, X_test_categorical])\n",
    "    elif len(numerical_trial_columns) > 0:\n",
    "        X_train = X_train_numerical\n",
    "        X_test = X_test_numerical\n",
    "    else:\n",
    "        X_train = X_train_categorical\n",
    "        X_test = X_test_categorical\n",
    "        \n",
    "    return X_train, X_test"
   ]
  },
  {
   "cell_type": "code",
   "execution_count": 21,
   "metadata": {},
   "outputs": [
    {
     "name": "stdout",
     "output_type": "stream",
     "text": [
      "Base Model MSE: 0.19827831389397432\n",
      "Base Model RMSE: 0.44528453138861035\n",
      "\n",
      "All Columns Model MSE: 0.1635828547849856\n",
      "All Columns Model RMSE: 0.40445377335980637\n"
     ]
    }
   ],
   "source": [
    "all_columns = numerical_columns + categorical_columns\n",
    "\n",
    "X_train, X_test = create_feature_matrices(df_train, df_test, all_columns, dummy_columns)\n",
    "\n",
    "all_lr = SGDRegressor(max_iter=2000)\n",
    "all_lr.fit(X_train, y_train)\n",
    "pred_result_all_test = all_lr.predict(X_test)\n",
    "all_mse = mean_squared_error(y_test, pred_result_all_test)\n",
    "all_rmse = np.sqrt(all_mse)\n",
    "\n",
    "print(\"Base Model MSE:\", null_mse)\n",
    "print(\"Base Model RMSE:\", null_rmse)\n",
    "print()\n",
    "print(\"All Columns Model MSE:\", all_mse)\n",
    "print(\"All Columns Model RMSE:\", all_rmse)"
   ]
  },
  {
   "cell_type": "code",
   "execution_count": 22,
   "metadata": {},
   "outputs": [
    {
     "data": {
      "text/plain": [
       "(-0.7859918701227345, 1.9830955403743302)"
      ]
     },
     "execution_count": 22,
     "metadata": {},
     "output_type": "execute_result"
    },
    {
     "data": {
      "image/png": "[encoded data removed]",
      "text/plain": [
       "<Figure size 432x288 with 1 Axes>"
      ]
     },
     "metadata": {
      "needs_background": "light"
     },
     "output_type": "display_data"
    }
   ],
   "source": [
    "plt.scatter(y_test, pred_result_all_test)\n",
    "m = max(max(y_test), max(pred_result_all_test))\n",
    "plt.plot([0, m], [0, m])\n",
    "plt.xlabel(\"True Result\", fontsize=16)\n",
    "plt.ylabel(\"Predicted Result\", fontsize=16)\n",
    "plt.xlim([0, 1.1])\n",
    "plt.ylim([min(pred_result_all_test), max(pred_result_all_test)])"
   ]
  },
  {
   "cell_type": "markdown",
   "metadata": {},
   "source": [
    "The results for linear regression are not the best, so I'm going to try logistic regression to determine if this method will produce better results."
   ]
  },
  {
   "cell_type": "code",
   "execution_count": 23,
   "metadata": {},
   "outputs": [
    {
     "name": "stdout",
     "output_type": "stream",
     "text": [
      "498020 373515 124505\n"
     ]
    }
   ],
   "source": [
    "df_train, df_test = train_test_split(df, stratify=df[\"Result\"])\n",
    "print(df.shape[0], df_train.shape[0], df_test.shape[0])"
   ]
  },
  {
   "cell_type": "code",
   "execution_count": 24,
   "metadata": {},
   "outputs": [
    {
     "name": "stdout",
     "output_type": "stream",
     "text": [
      "[1 1 2 ... 2 1 1]\n"
     ]
    }
   ],
   "source": [
    "encoder = LabelEncoder()\n",
    "y_train = encoder.fit_transform(df_train[\"Result\"].astype(\"str\"))\n",
    "y_test = encoder.transform(df_test[\"Result\"].astype(\"str\"))\n",
    "print(y_train)"
   ]
  },
  {
   "cell_type": "code",
   "execution_count": 25,
   "metadata": {},
   "outputs": [
    {
     "name": "stdout",
     "output_type": "stream",
     "text": [
      "Accuracy: 0.41231275852375404\n",
      "Loss: 1.0584903355087278\n",
      "Labels: ['0.0' '0.5' '1.0']\n",
      "Confusion matrix:\n",
      "[[    0     0 47499]\n",
      " [    0     0 25671]\n",
      " [    0     0 51335]]\n"
     ]
    }
   ],
   "source": [
    "zeros_train = np.zeros(df_train.shape)\n",
    "zeros_test = np.zeros(df_test.shape)\n",
    "\n",
    "null_lr = SGDClassifier(max_iter=2000, loss=\"log\")\n",
    "null_lr.fit(zeros_train, y_train)\n",
    "pred_null_results = null_lr.predict(zeros_test)\n",
    "pred_prob = null_lr.predict_proba(zeros_test)\n",
    "\n",
    "null_accuracy = accuracy_score(y_test, pred_null_results)\n",
    "null_loss = log_loss(y_test, pred_prob)\n",
    "cm = confusion_matrix(y_test, pred_null_results)\n",
    "\n",
    "print(\"Accuracy:\", null_accuracy)\n",
    "print(\"Loss:\", null_loss)\n",
    "print(\"Labels:\", encoder.classes_)\n",
    "print(\"Confusion matrix:\")\n",
    "print(cm)"
   ]
  },
  {
   "cell_type": "code",
   "execution_count": 26,
   "metadata": {},
   "outputs": [
    {
     "name": "stdout",
     "output_type": "stream",
     "text": [
      "\n",
      "Model Accuracy: 0.5697763142042488\n",
      "Loss: 0.913862878099875\n",
      "Labels: ['0.0' '0.5' '1.0']\n",
      "Confusion matrix:\n",
      "[[29453  2333 15713]\n",
      " [ 8787  5806 11078]\n",
      " [12968  2686 35681]]\n"
     ]
    }
   ],
   "source": [
    "X_train, X_test = create_feature_matrices(df_train, df_test, all_columns, dummy_columns)\n",
    "    \n",
    "lr = SGDClassifier(max_iter=2000, loss=\"log\")\n",
    "lr.fit(X_train, y_train)\n",
    "pred_results = lr.predict(X_test)\n",
    "pred_prob = lr.predict_proba(X_test)\n",
    "\n",
    "accuracy = accuracy_score(y_test, pred_results)\n",
    "loss = log_loss(y_test, pred_prob)\n",
    "cm = confusion_matrix(y_test, pred_results)\n",
    "\n",
    "print()\n",
    "print(\"Model Accuracy:\", accuracy)\n",
    "print(\"Loss:\", loss)\n",
    "print(\"Labels:\", encoder.classes_)\n",
    "print(\"Confusion matrix:\")\n",
    "print(cm)"
   ]
  },
  {
   "cell_type": "markdown",
   "metadata": {},
   "source": [
    "I'm not satisfied with these results yet, so I'm going to try Random Forest Regression"
   ]
  },
  {
   "cell_type": "code",
   "execution_count": 22,
   "metadata": {},
   "outputs": [
    {
     "name": "stdout",
     "output_type": "stream",
     "text": [
      "498020 373515 124505\n"
     ]
    }
   ],
   "source": [
    "df_train, df_test = train_test_split(df)\n",
    "print(df.shape[0], df_train.shape[0], df_test.shape[0])"
   ]
  },
  {
   "cell_type": "code",
   "execution_count": 23,
   "metadata": {},
   "outputs": [],
   "source": [
    "y_train = df_train[\"Result\"].values\n",
    "y_test = df_test[\"Result\"].values"
   ]
  },
  {
   "cell_type": "code",
   "execution_count": 24,
   "metadata": {},
   "outputs": [
    {
     "name": "stdout",
     "output_type": "stream",
     "text": [
      "All Columns Model MSE: 0.0584021305744621\n",
      "All Columns Model RMSE: 0.24166532762161413\n"
     ]
    }
   ],
   "source": [
    "all_columns = numerical_columns + categorical_columns\n",
    "\n",
    "X_train, X_test = create_feature_matrices(df_train, df_test, all_columns, dummy_columns)\n",
    "\n",
    "all_rf = RandomForestRegressor()\n",
    "all_rf.fit(X_train, y_train)\n",
    "pred_result_all_test = all_rf.predict(X_test)\n",
    "all_mse = mean_squared_error(y_test, pred_result_all_test)\n",
    "all_rmse = np.sqrt(all_mse)\n",
    "\n",
    "print(\"All Columns Model MSE:\", all_mse)\n",
    "print(\"All Columns Model RMSE:\", all_rmse)"
   ]
  },
  {
   "cell_type": "code",
   "execution_count": 25,
   "metadata": {
    "scrolled": true
   },
   "outputs": [
    {
     "data": {
      "text/plain": [
       "(0.0, 1.0)"
      ]
     },
     "execution_count": 25,
     "metadata": {},
     "output_type": "execute_result"
    },
    {
     "data": {
      "image/png": "[encoded data removed]",
      "text/plain": [
       "<Figure size 432x288 with 1 Axes>"
      ]
     },
     "metadata": {},
     "output_type": "display_data"
    }
   ],
   "source": [
    "plt.scatter(y_test, pred_result_all_test)\n",
    "m = max(max(y_test), max(pred_result_all_test))\n",
    "plt.plot([0, m], [0, m])\n",
    "plt.xlabel(\"True Result\", fontsize=16)\n",
    "plt.ylabel(\"Predicted Result\", fontsize=16)\n",
    "plt.xlim([0, 1.1])\n",
    "plt.ylim([min(pred_result_all_test), max(pred_result_all_test)])"
   ]
  },
  {
   "cell_type": "code",
   "execution_count": null,
   "metadata": {},
   "outputs": [],
   "source": []
  },
  {
   "cell_type": "markdown",
   "metadata": {},
   "source": [
    "### Results Analysis"
   ]
  },
  {
   "cell_type": "code",
   "execution_count": null,
   "metadata": {},
   "outputs": [],
   "source": []
  }
 ],
 "metadata": {
  "kernelspec": {
   "display_name": "Python 3",
   "language": "python",
   "name": "python3"
  },
  "language_info": {
   "codemirror_mode": {
    "name": "ipython",
    "version": 3
   },
   "file_extension": ".py",
   "mimetype": "text/x-python",
   "name": "python",
   "nbconvert_exporter": "python",
   "pygments_lexer": "ipython3",
   "version": "3.6.5"
  }
 },
 "nbformat": 4,
 "nbformat_minor": 2
}
