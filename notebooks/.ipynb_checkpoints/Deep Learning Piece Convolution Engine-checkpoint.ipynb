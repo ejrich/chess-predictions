{
 "cells": [
  {
   "cell_type": "markdown",
   "metadata": {
    "colab_type": "text",
    "id": "m8zW6aLvHWz3"
   },
   "source": [
    "## Deep Learning Piece Convolutional Engine\n",
    "\n",
    "By Evan Richardson"
   ]
  },
  {
   "cell_type": "code",
   "execution_count": 1,
   "metadata": {
    "colab": {
     "base_uri": "https://localhost:8080/",
     "height": 34
    },
    "colab_type": "code",
    "id": "yMgEvnVGGpB_",
    "outputId": "43be3d32-41a8-4707-d5af-8e9eb3b1156d"
   },
   "outputs": [
    {
     "name": "stdout",
     "output_type": "stream",
     "text": [
      "1.13.0-rc1\n"
     ]
    }
   ],
   "source": [
    "import tensorflow\n",
    "print(tensorflow.__version__)\n",
    "\n",
    "import numpy as np\n",
    "import pandas as pd\n",
    "# from google.colab import drive\n",
    "from sklearn.model_selection import train_test_split\n",
    "import tensorflow.keras\n",
    "from tensorflow.keras.models import Sequential\n",
    "from tensorflow.keras.layers import Conv2D, Dense, Flatten"
   ]
  },
  {
   "cell_type": "code",
   "execution_count": 2,
   "metadata": {
    "colab": {
     "base_uri": "https://localhost:8080/",
     "height": 54
    },
    "colab_type": "code",
    "id": "pU1eJkqxwhqp",
    "outputId": "d938d3a4-3a26-4c54-8ca4-4197c549dd71"
   },
   "outputs": [],
   "source": [
    "# drive.mount('/content/gdrive')\n",
    "df = pd.read_csv(\"../data/2018_games_dl_pred.csv\")"
   ]
  },
  {
   "cell_type": "code",
   "execution_count": 3,
   "metadata": {
    "colab": {
     "base_uri": "https://localhost:8080/",
     "height": 253
    },
    "colab_type": "code",
    "id": "VvFC06TLwpjP",
    "outputId": "5f47ccd8-c72a-4632-bbef-8c349e3fc9f4"
   },
   "outputs": [
    {
     "data": {
      "text/html": [
       "<div>\n",
       "<style scoped>\n",
       "    .dataframe tbody tr th:only-of-type {\n",
       "        vertical-align: middle;\n",
       "    }\n",
       "\n",
       "    .dataframe tbody tr th {\n",
       "        vertical-align: top;\n",
       "    }\n",
       "\n",
       "    .dataframe thead th {\n",
       "        text-align: right;\n",
       "    }\n",
       "</style>\n",
       "<table border=\"1\" class=\"dataframe\">\n",
       "  <thead>\n",
       "    <tr style=\"text-align: right;\">\n",
       "      <th></th>\n",
       "      <th>Result</th>\n",
       "      <th>Move</th>\n",
       "      <th>Color</th>\n",
       "      <th>Piece</th>\n",
       "      <th>CurrentFile</th>\n",
       "      <th>CurrentRank</th>\n",
       "      <th>NewFile</th>\n",
       "      <th>NewRank</th>\n",
       "      <th>a1</th>\n",
       "      <th>b1</th>\n",
       "      <th>...</th>\n",
       "      <th>g7</th>\n",
       "      <th>h7</th>\n",
       "      <th>a8</th>\n",
       "      <th>b8</th>\n",
       "      <th>c8</th>\n",
       "      <th>d8</th>\n",
       "      <th>e8</th>\n",
       "      <th>f8</th>\n",
       "      <th>g8</th>\n",
       "      <th>h8</th>\n",
       "    </tr>\n",
       "  </thead>\n",
       "  <tbody>\n",
       "    <tr>\n",
       "      <th>0</th>\n",
       "      <td>1</td>\n",
       "      <td>1</td>\n",
       "      <td>1</td>\n",
       "      <td>1</td>\n",
       "      <td>4</td>\n",
       "      <td>1</td>\n",
       "      <td>4</td>\n",
       "      <td>3</td>\n",
       "      <td>2.0</td>\n",
       "      <td>3.0</td>\n",
       "      <td>...</td>\n",
       "      <td>7.0</td>\n",
       "      <td>7.0</td>\n",
       "      <td>8.0</td>\n",
       "      <td>9.0</td>\n",
       "      <td>10.0</td>\n",
       "      <td>11.0</td>\n",
       "      <td>12.0</td>\n",
       "      <td>10.0</td>\n",
       "      <td>9.0</td>\n",
       "      <td>8.0</td>\n",
       "    </tr>\n",
       "    <tr>\n",
       "      <th>1</th>\n",
       "      <td>1</td>\n",
       "      <td>2</td>\n",
       "      <td>1</td>\n",
       "      <td>1</td>\n",
       "      <td>5</td>\n",
       "      <td>1</td>\n",
       "      <td>5</td>\n",
       "      <td>3</td>\n",
       "      <td>2.0</td>\n",
       "      <td>3.0</td>\n",
       "      <td>...</td>\n",
       "      <td>7.0</td>\n",
       "      <td>7.0</td>\n",
       "      <td>8.0</td>\n",
       "      <td>9.0</td>\n",
       "      <td>10.0</td>\n",
       "      <td>11.0</td>\n",
       "      <td>12.0</td>\n",
       "      <td>10.0</td>\n",
       "      <td>9.0</td>\n",
       "      <td>8.0</td>\n",
       "    </tr>\n",
       "    <tr>\n",
       "      <th>2</th>\n",
       "      <td>1</td>\n",
       "      <td>3</td>\n",
       "      <td>1</td>\n",
       "      <td>3</td>\n",
       "      <td>6</td>\n",
       "      <td>0</td>\n",
       "      <td>5</td>\n",
       "      <td>2</td>\n",
       "      <td>2.0</td>\n",
       "      <td>3.0</td>\n",
       "      <td>...</td>\n",
       "      <td>7.0</td>\n",
       "      <td>7.0</td>\n",
       "      <td>8.0</td>\n",
       "      <td>9.0</td>\n",
       "      <td>10.0</td>\n",
       "      <td>11.0</td>\n",
       "      <td>12.0</td>\n",
       "      <td>10.0</td>\n",
       "      <td>9.0</td>\n",
       "      <td>8.0</td>\n",
       "    </tr>\n",
       "    <tr>\n",
       "      <th>3</th>\n",
       "      <td>1</td>\n",
       "      <td>4</td>\n",
       "      <td>1</td>\n",
       "      <td>1</td>\n",
       "      <td>3</td>\n",
       "      <td>1</td>\n",
       "      <td>3</td>\n",
       "      <td>2</td>\n",
       "      <td>2.0</td>\n",
       "      <td>3.0</td>\n",
       "      <td>...</td>\n",
       "      <td>7.0</td>\n",
       "      <td>7.0</td>\n",
       "      <td>8.0</td>\n",
       "      <td>NaN</td>\n",
       "      <td>10.0</td>\n",
       "      <td>11.0</td>\n",
       "      <td>12.0</td>\n",
       "      <td>10.0</td>\n",
       "      <td>9.0</td>\n",
       "      <td>8.0</td>\n",
       "    </tr>\n",
       "    <tr>\n",
       "      <th>4</th>\n",
       "      <td>1</td>\n",
       "      <td>5</td>\n",
       "      <td>1</td>\n",
       "      <td>1</td>\n",
       "      <td>4</td>\n",
       "      <td>3</td>\n",
       "      <td>4</td>\n",
       "      <td>4</td>\n",
       "      <td>2.0</td>\n",
       "      <td>3.0</td>\n",
       "      <td>...</td>\n",
       "      <td>7.0</td>\n",
       "      <td>7.0</td>\n",
       "      <td>8.0</td>\n",
       "      <td>NaN</td>\n",
       "      <td>10.0</td>\n",
       "      <td>11.0</td>\n",
       "      <td>12.0</td>\n",
       "      <td>10.0</td>\n",
       "      <td>9.0</td>\n",
       "      <td>8.0</td>\n",
       "    </tr>\n",
       "  </tbody>\n",
       "</table>\n",
       "<p>5 rows × 72 columns</p>\n",
       "</div>"
      ],
      "text/plain": [
       "   Result  Move  Color  Piece  CurrentFile  CurrentRank  NewFile  NewRank  \\\n",
       "0       1     1      1      1            4            1        4        3   \n",
       "1       1     2      1      1            5            1        5        3   \n",
       "2       1     3      1      3            6            0        5        2   \n",
       "3       1     4      1      1            3            1        3        2   \n",
       "4       1     5      1      1            4            3        4        4   \n",
       "\n",
       "    a1   b1 ...    g7   h7   a8   b8    c8    d8    e8    f8   g8   h8  \n",
       "0  2.0  3.0 ...   7.0  7.0  8.0  9.0  10.0  11.0  12.0  10.0  9.0  8.0  \n",
       "1  2.0  3.0 ...   7.0  7.0  8.0  9.0  10.0  11.0  12.0  10.0  9.0  8.0  \n",
       "2  2.0  3.0 ...   7.0  7.0  8.0  9.0  10.0  11.0  12.0  10.0  9.0  8.0  \n",
       "3  2.0  3.0 ...   7.0  7.0  8.0  NaN  10.0  11.0  12.0  10.0  9.0  8.0  \n",
       "4  2.0  3.0 ...   7.0  7.0  8.0  NaN  10.0  11.0  12.0  10.0  9.0  8.0  \n",
       "\n",
       "[5 rows x 72 columns]"
      ]
     },
     "execution_count": 3,
     "metadata": {},
     "output_type": "execute_result"
    }
   ],
   "source": [
    "df.head()"
   ]
  },
  {
   "cell_type": "code",
   "execution_count": 4,
   "metadata": {
    "colab": {
     "base_uri": "https://localhost:8080/",
     "height": 34
    },
    "colab_type": "code",
    "id": "R8TghyOzwuwG",
    "outputId": "3f2fcd16-4baa-4e67-d70e-8f0e8417f00b"
   },
   "outputs": [
    {
     "data": {
      "text/plain": [
       "(2863632, 72)"
      ]
     },
     "execution_count": 4,
     "metadata": {},
     "output_type": "execute_result"
    }
   ],
   "source": [
    "df.shape"
   ]
  },
  {
   "cell_type": "code",
   "execution_count": 5,
   "metadata": {
    "colab": {
     "base_uri": "https://localhost:8080/",
     "height": 34
    },
    "colab_type": "code",
    "id": "pPJHVbnPZSoY",
    "outputId": "571237a9-1f6c-4b8b-9013-95ac82d8acf7"
   },
   "outputs": [
    {
     "name": "stdout",
     "output_type": "stream",
     "text": [
      "(2863632, 72) (2147724, 72) (715908, 72)\n"
     ]
    }
   ],
   "source": [
    "piece_train, piece_test = train_test_split(df)\n",
    "print(df.shape, piece_train.shape, piece_test.shape)"
   ]
  },
  {
   "cell_type": "code",
   "execution_count": 6,
   "metadata": {
    "colab": {},
    "colab_type": "code",
    "id": "37B_71Prwwss"
   },
   "outputs": [],
   "source": [
    "def translateGameStates(df):\n",
    "  states = []\n",
    "\n",
    "  for position in df.values:\n",
    "    gameState = np.zeros((8, 8, 6))\n",
    "    squares = position[-64:]\n",
    "\n",
    "    for rank in range(8):\n",
    "      for file in range(8):\n",
    "        index = rank * 8 + file\n",
    "        piece = squares[index]\n",
    "\n",
    "        if piece > 6:\n",
    "          gameState[rank][file][int(piece) - 7] = -1\n",
    "        elif piece > 0:\n",
    "          gameState[rank][file][int(piece) - 1] = 1\n",
    "\n",
    "    states.append(gameState)\n",
    "\n",
    "  return np.array(states)"
   ]
  },
  {
   "cell_type": "code",
   "execution_count": 7,
   "metadata": {
    "colab": {},
    "colab_type": "code",
    "id": "tGHWOu5XcIs3"
   },
   "outputs": [
    {
     "name": "stdout",
     "output_type": "stream",
     "text": [
      "(2147724, 8, 8, 6) (715908, 8, 8, 6)\n"
     ]
    }
   ],
   "source": [
    "piece_x_train = translateGameStates(piece_train)\n",
    "piece_x_test = translateGameStates(piece_test)\n",
    "\n",
    "print(piece_x_train.shape, piece_x_test.shape)"
   ]
  },
  {
   "cell_type": "code",
   "execution_count": 8,
   "metadata": {
    "colab": {
     "base_uri": "https://localhost:8080/",
     "height": 34
    },
    "colab_type": "code",
    "id": "EmokeUSadmGa",
    "outputId": "0a5ff004-6542-4620-97b6-7851b5fc50e8"
   },
   "outputs": [
    {
     "name": "stdout",
     "output_type": "stream",
     "text": [
      "(8, 8, 6)\n"
     ]
    }
   ],
   "source": [
    "input_shape = piece_x_train[0].shape\n",
    "print(input_shape)"
   ]
  },
  {
   "cell_type": "code",
   "execution_count": 9,
   "metadata": {
    "colab": {},
    "colab_type": "code",
    "id": "NpKPSMjAa0Mu"
   },
   "outputs": [],
   "source": [
    "def translateOutputSet(df, file_col, rank_col):\n",
    "  states = []\n",
    "\n",
    "  for position in df.values:\n",
    "    state = np.zeros(64)\n",
    "\n",
    "    file = position[file_col]\n",
    "    rank = position[rank_col]\n",
    "\n",
    "    state[int(rank) * 8 + int(file)] = 1\n",
    "    states.append(state)\n",
    "\n",
    "  return np.array(states)"
   ]
  },
  {
   "cell_type": "code",
   "execution_count": 10,
   "metadata": {
    "colab": {},
    "colab_type": "code",
    "id": "cSSs7MwjcDq5"
   },
   "outputs": [],
   "source": [
    "piece_y_train = translateOutputSet(piece_train, 4, 5)\n",
    "piece_y_test = translateOutputSet(piece_test, 4, 5)"
   ]
  },
  {
   "cell_type": "code",
   "execution_count": 11,
   "metadata": {
    "colab": {
     "base_uri": "https://localhost:8080/",
     "height": 955
    },
    "colab_type": "code",
    "id": "HhSnqxUQcgzd",
    "outputId": "2cbccda6-0fbf-4938-85f6-939453436846"
   },
   "outputs": [
    {
     "name": "stdout",
     "output_type": "stream",
     "text": [
      "WARNING:tensorflow:From C:\\ProgramData\\Anaconda3\\lib\\site-packages\\tensorflow\\python\\ops\\resource_variable_ops.py:435: colocate_with (from tensorflow.python.framework.ops) is deprecated and will be removed in a future version.\n",
      "Instructions for updating:\n",
      "Colocations handled automatically by placer.\n",
      "_________________________________________________________________\n",
      "Layer (type)                 Output Shape              Param #   \n",
      "=================================================================\n",
      "conv2d (Conv2D)              (None, 6, 6, 32)          1760      \n",
      "_________________________________________________________________\n",
      "conv2d_1 (Conv2D)            (None, 4, 4, 128)         36992     \n",
      "_________________________________________________________________\n",
      "flatten (Flatten)            (None, 2048)              0         \n",
      "_________________________________________________________________\n",
      "dense (Dense)                (None, 64)                131136    \n",
      "=================================================================\n",
      "Total params: 169,888\n",
      "Trainable params: 169,888\n",
      "Non-trainable params: 0\n",
      "_________________________________________________________________\n",
      "Train on 2147724 samples, validate on 715908 samples\n",
      "WARNING:tensorflow:From C:\\ProgramData\\Anaconda3\\lib\\site-packages\\tensorflow\\python\\ops\\math_ops.py:3066: to_int32 (from tensorflow.python.ops.math_ops) is deprecated and will be removed in a future version.\n",
      "Instructions for updating:\n",
      "Use tf.cast instead.\n",
      "Epoch 1/15\n",
      "2147724/2147724 [==============================] - 249s 116us/sample - loss: 1.6818 - acc: 0.4099 - val_loss: 1.5561 - val_acc: 0.4405\n",
      "Epoch 2/15\n",
      "2147724/2147724 [==============================] - 175s 82us/sample - loss: 1.5198 - acc: 0.4540 - val_loss: 1.5059 - val_acc: 0.4578\n",
      "Epoch 3/15\n",
      "2147724/2147724 [==============================] - 174s 81us/sample - loss: 1.4782 - acc: 0.4676 - val_loss: 1.4857 - val_acc: 0.4637\n",
      "Epoch 4/15\n",
      "2147724/2147724 [==============================] - 176s 82us/sample - loss: 1.4527 - acc: 0.4757 - val_loss: 1.4727 - val_acc: 0.4679\n",
      "Epoch 5/15\n",
      "2147724/2147724 [==============================] - 176s 82us/sample - loss: 1.4346 - acc: 0.4821 - val_loss: 1.4575 - val_acc: 0.4721\n",
      "Epoch 6/15\n",
      "2147724/2147724 [==============================] - 175s 81us/sample - loss: 1.4213 - acc: 0.4866 - val_loss: 1.4523 - val_acc: 0.4742\n",
      "Epoch 7/15\n",
      "2147724/2147724 [==============================] - 176s 82us/sample - loss: 1.4106 - acc: 0.4902 - val_loss: 1.4448 - val_acc: 0.4772\n",
      "Epoch 8/15\n",
      "2147724/2147724 [==============================] - 175s 81us/sample - loss: 1.4025 - acc: 0.4931 - val_loss: 1.4433 - val_acc: 0.4769\n",
      "Epoch 9/15\n",
      "2147724/2147724 [==============================] - 173s 80us/sample - loss: 1.3955 - acc: 0.4958 - val_loss: 1.4366 - val_acc: 0.4795\n",
      "Epoch 10/15\n",
      "2147724/2147724 [==============================] - 173s 81us/sample - loss: 1.3893 - acc: 0.4986 - val_loss: 1.4357 - val_acc: 0.4804\n",
      "Epoch 11/15\n",
      "2147724/2147724 [==============================] - 172s 80us/sample - loss: 1.3841 - acc: 0.5002 - val_loss: 1.4328 - val_acc: 0.4815\n",
      "Epoch 12/15\n",
      "2147724/2147724 [==============================] - 172s 80us/sample - loss: 1.3797 - acc: 0.5018 - val_loss: 1.4295 - val_acc: 0.4819\n",
      "Epoch 13/15\n",
      "2147724/2147724 [==============================] - 175s 82us/sample - loss: 1.3757 - acc: 0.5034 - val_loss: 1.4301 - val_acc: 0.4827\n",
      "Epoch 14/15\n",
      "2147724/2147724 [==============================] - 174s 81us/sample - loss: 1.3719 - acc: 0.5048 - val_loss: 1.4247 - val_acc: 0.4841\n",
      "Epoch 15/15\n",
      "2147724/2147724 [==============================] - 179s 83us/sample - loss: 1.3686 - acc: 0.5060 - val_loss: 1.4268 - val_acc: 0.4854\n",
      "Test loss: 1.4268453031600332\n",
      "Test accuracy: 0.48540455\n"
     ]
    }
   ],
   "source": [
    "batch_size = 250\n",
    "num_classes = 64\n",
    "epochs = 15\n",
    "\n",
    "piece_model = Sequential()\n",
    "piece_model.add(Conv2D(32, kernel_size=(3, 3), activation='relu', input_shape=input_shape))\n",
    "piece_model.add(Conv2D(128, (3, 3), activation='relu'))\n",
    "piece_model.add(Flatten())\n",
    "piece_model.add(Dense(num_classes, activation='softmax'))\n",
    "\n",
    "piece_model.summary()\n",
    "\n",
    "piece_model.compile(loss=tensorflow.keras.losses.categorical_crossentropy,\n",
    "              optimizer='adam',\n",
    "              metrics=['accuracy'])\n",
    "\n",
    "piece_model.fit(piece_x_train, piece_y_train,\n",
    "          batch_size=batch_size,\n",
    "          epochs=epochs,\n",
    "          verbose=1,\n",
    "          validation_data=(piece_x_test, piece_y_test))\n",
    "score = piece_model.evaluate(piece_x_test, piece_y_test, verbose=0)\n",
    "print('Test loss:', score[0])\n",
    "print('Test accuracy:', score[1])"
   ]
  },
  {
   "cell_type": "code",
   "execution_count": 0,
   "metadata": {
    "colab": {},
    "colab_type": "code",
    "id": "8ZQKeJqSEYcG"
   },
   "outputs": [],
   "source": [
    "bad = []\n",
    "for i in range(len(piece_x_test)):\n",
    "  a = np.array([piece_x_test[i]])\n",
    "  b = piece_model.predict(a)[0]\n",
    "  \n",
    "  index = np.argmax(b)\n",
    "  rank = int(index / 8)\n",
    "  file = index % 8\n",
    "  \n",
    "  square = piece_x_test[i][rank][file]\n",
    "  if 1 not in square:\n",
    "    bad.append(i)\n",
    "  if i % 2000 == 0:\n",
    "    print(i, bad)"
   ]
  },
  {
   "cell_type": "code",
   "execution_count": 0,
   "metadata": {
    "colab": {},
    "colab_type": "code",
    "id": "fOpmSa9KhqQ0"
   },
   "outputs": [],
   "source": [
    "piece_model.save('../modesl/20190213_piece_convolution.h5')"
   ]
  },
  {
   "cell_type": "markdown",
   "metadata": {},
   "source": [
    "  ![Example 1](Example5.png)"
   ]
  }
 ],
 "metadata": {
  "accelerator": "GPU",
  "colab": {
   "name": "Deep Learning Piece Convolution Engine.ipynb",
   "provenance": [],
   "version": "0.3.2"
  },
  "kernelspec": {
   "display_name": "Python 3",
   "language": "python",
   "name": "python3"
  },
  "language_info": {
   "codemirror_mode": {
    "name": "ipython",
    "version": 3
   },
   "file_extension": ".py",
   "mimetype": "text/x-python",
   "name": "python",
   "nbconvert_exporter": "python",
   "pygments_lexer": "ipython3",
   "version": "3.7.0"
  }
 },
 "nbformat": 4,
 "nbformat_minor": 1
}
