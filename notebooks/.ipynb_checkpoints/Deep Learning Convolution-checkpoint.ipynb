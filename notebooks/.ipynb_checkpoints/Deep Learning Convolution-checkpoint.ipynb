{
 "cells": [
  {
   "cell_type": "markdown",
   "metadata": {
    "colab_type": "text",
    "id": "m8zW6aLvHWz3"
   },
   "source": [
    "## Deep Learning Convolutional Models\n",
    "\n",
    "By Evan Richardson"
   ]
  },
  {
   "cell_type": "code",
   "execution_count": 0,
   "metadata": {
    "colab": {
     "base_uri": "https://localhost:8080/",
     "height": 34
    },
    "colab_type": "code",
    "id": "yMgEvnVGGpB_",
    "outputId": "be92c055-112b-4310-f0a9-bfb9ef24939c"
   },
   "outputs": [
    {
     "name": "stdout",
     "output_type": "stream",
     "text": [
      "1.13.0-rc0\n"
     ]
    }
   ],
   "source": [
    "import tensorflow\n",
    "print(tensorflow.__version__)\n",
    "\n",
    "import numpy as np\n",
    "import pandas as pd\n",
    "from google.colab import drive\n",
    "from sklearn.model_selection import train_test_split\n",
    "import tensorflow.keras\n",
    "from tensorflow.keras.models import Sequential\n",
    "from tensorflow.keras.layers import Conv2D, Dense, Dropout, Flatten, MaxPooling2D\n",
    "from tensorflow.keras.optimizers import RMSprop"
   ]
  },
  {
   "cell_type": "code",
   "execution_count": 0,
   "metadata": {
    "colab": {
     "base_uri": "https://localhost:8080/",
     "height": 54
    },
    "colab_type": "code",
    "id": "pU1eJkqxwhqp",
    "outputId": "cd7e1321-2a08-43f6-eb32-1636c280be77"
   },
   "outputs": [
    {
     "name": "stdout",
     "output_type": "stream",
     "text": [
      "Drive already mounted at /content/gdrive; to attempt to forcibly remount, call drive.mount(\"/content/gdrive\", force_remount=True).\n"
     ]
    }
   ],
   "source": [
    "drive.mount('/content/gdrive')\n",
    "df = pd.read_csv(\"/content/gdrive/My Drive/Colab Notebooks/chess/201801_games_dl.csv\")"
   ]
  },
  {
   "cell_type": "code",
   "execution_count": 0,
   "metadata": {
    "colab": {},
    "colab_type": "code",
    "id": "F19vIhW_RoDp"
   },
   "outputs": [],
   "source": [
    "from tensorflow.keras.models import load_model\n",
    "a = load_model(\"/content/gdrive/My Drive/Colab Notebooks/chess/20190210_convolution.h5\")"
   ]
  },
  {
   "cell_type": "code",
   "execution_count": 0,
   "metadata": {
    "colab": {
     "base_uri": "https://localhost:8080/",
     "height": 408
    },
    "colab_type": "code",
    "id": "gvGdd9otR6jw",
    "outputId": "1fb169f3-512b-495a-d7ea-ae22b4009e9f"
   },
   "outputs": [
    {
     "name": "stdout",
     "output_type": "stream",
     "text": [
      "_________________________________________________________________\n",
      "Layer (type)                 Output Shape              Param #   \n",
      "=================================================================\n",
      "conv2d (Conv2D)              (None, 6, 6, 32)          1760      \n",
      "_________________________________________________________________\n",
      "conv2d_1 (Conv2D)            (None, 4, 4, 64)          18496     \n",
      "_________________________________________________________________\n",
      "max_pooling2d (MaxPooling2D) (None, 2, 2, 64)          0         \n",
      "_________________________________________________________________\n",
      "dropout (Dropout)            (None, 2, 2, 64)          0         \n",
      "_________________________________________________________________\n",
      "flatten (Flatten)            (None, 256)               0         \n",
      "_________________________________________________________________\n",
      "dense (Dense)                (None, 128)               32896     \n",
      "_________________________________________________________________\n",
      "dropout_1 (Dropout)          (None, 128)               0         \n",
      "_________________________________________________________________\n",
      "dense_1 (Dense)              (None, 3)                 387       \n",
      "=================================================================\n",
      "Total params: 53,539\n",
      "Trainable params: 53,539\n",
      "Non-trainable params: 0\n",
      "_________________________________________________________________\n"
     ]
    }
   ],
   "source": [
    "a.summary()"
   ]
  },
  {
   "cell_type": "code",
   "execution_count": 0,
   "metadata": {
    "colab": {
     "base_uri": "https://localhost:8080/",
     "height": 253
    },
    "colab_type": "code",
    "id": "VvFC06TLwpjP",
    "outputId": "2081f4d8-211a-4a98-ee2c-f26568a668e0"
   },
   "outputs": [
    {
     "data": {
      "text/html": [
       "<div>\n",
       "<style scoped>\n",
       "    .dataframe tbody tr th:only-of-type {\n",
       "        vertical-align: middle;\n",
       "    }\n",
       "\n",
       "    .dataframe tbody tr th {\n",
       "        vertical-align: top;\n",
       "    }\n",
       "\n",
       "    .dataframe thead th {\n",
       "        text-align: right;\n",
       "    }\n",
       "</style>\n",
       "<table border=\"1\" class=\"dataframe\">\n",
       "  <thead>\n",
       "    <tr style=\"text-align: right;\">\n",
       "      <th></th>\n",
       "      <th>Result</th>\n",
       "      <th>Move</th>\n",
       "      <th>Turn</th>\n",
       "      <th>a1</th>\n",
       "      <th>b1</th>\n",
       "      <th>c1</th>\n",
       "      <th>d1</th>\n",
       "      <th>e1</th>\n",
       "      <th>f1</th>\n",
       "      <th>g1</th>\n",
       "      <th>...</th>\n",
       "      <th>g7</th>\n",
       "      <th>h7</th>\n",
       "      <th>a8</th>\n",
       "      <th>b8</th>\n",
       "      <th>c8</th>\n",
       "      <th>d8</th>\n",
       "      <th>e8</th>\n",
       "      <th>f8</th>\n",
       "      <th>g8</th>\n",
       "      <th>h8</th>\n",
       "    </tr>\n",
       "  </thead>\n",
       "  <tbody>\n",
       "    <tr>\n",
       "      <th>0</th>\n",
       "      <td>1</td>\n",
       "      <td>0</td>\n",
       "      <td>1</td>\n",
       "      <td>2.0</td>\n",
       "      <td>3.0</td>\n",
       "      <td>4.0</td>\n",
       "      <td>5.0</td>\n",
       "      <td>6.0</td>\n",
       "      <td>4.0</td>\n",
       "      <td>3.0</td>\n",
       "      <td>...</td>\n",
       "      <td>7.0</td>\n",
       "      <td>7.0</td>\n",
       "      <td>8.0</td>\n",
       "      <td>9.0</td>\n",
       "      <td>10.0</td>\n",
       "      <td>11.0</td>\n",
       "      <td>12.0</td>\n",
       "      <td>10.0</td>\n",
       "      <td>9.0</td>\n",
       "      <td>8.0</td>\n",
       "    </tr>\n",
       "    <tr>\n",
       "      <th>1</th>\n",
       "      <td>1</td>\n",
       "      <td>1</td>\n",
       "      <td>2</td>\n",
       "      <td>2.0</td>\n",
       "      <td>3.0</td>\n",
       "      <td>4.0</td>\n",
       "      <td>5.0</td>\n",
       "      <td>6.0</td>\n",
       "      <td>4.0</td>\n",
       "      <td>3.0</td>\n",
       "      <td>...</td>\n",
       "      <td>7.0</td>\n",
       "      <td>7.0</td>\n",
       "      <td>8.0</td>\n",
       "      <td>9.0</td>\n",
       "      <td>10.0</td>\n",
       "      <td>11.0</td>\n",
       "      <td>12.0</td>\n",
       "      <td>10.0</td>\n",
       "      <td>9.0</td>\n",
       "      <td>8.0</td>\n",
       "    </tr>\n",
       "    <tr>\n",
       "      <th>2</th>\n",
       "      <td>1</td>\n",
       "      <td>2</td>\n",
       "      <td>1</td>\n",
       "      <td>2.0</td>\n",
       "      <td>3.0</td>\n",
       "      <td>4.0</td>\n",
       "      <td>5.0</td>\n",
       "      <td>6.0</td>\n",
       "      <td>4.0</td>\n",
       "      <td>3.0</td>\n",
       "      <td>...</td>\n",
       "      <td>7.0</td>\n",
       "      <td>7.0</td>\n",
       "      <td>8.0</td>\n",
       "      <td>9.0</td>\n",
       "      <td>10.0</td>\n",
       "      <td>11.0</td>\n",
       "      <td>12.0</td>\n",
       "      <td>10.0</td>\n",
       "      <td>9.0</td>\n",
       "      <td>8.0</td>\n",
       "    </tr>\n",
       "    <tr>\n",
       "      <th>3</th>\n",
       "      <td>1</td>\n",
       "      <td>3</td>\n",
       "      <td>2</td>\n",
       "      <td>2.0</td>\n",
       "      <td>3.0</td>\n",
       "      <td>4.0</td>\n",
       "      <td>5.0</td>\n",
       "      <td>6.0</td>\n",
       "      <td>4.0</td>\n",
       "      <td>3.0</td>\n",
       "      <td>...</td>\n",
       "      <td>7.0</td>\n",
       "      <td>7.0</td>\n",
       "      <td>8.0</td>\n",
       "      <td>9.0</td>\n",
       "      <td>10.0</td>\n",
       "      <td>11.0</td>\n",
       "      <td>12.0</td>\n",
       "      <td>10.0</td>\n",
       "      <td>9.0</td>\n",
       "      <td>8.0</td>\n",
       "    </tr>\n",
       "    <tr>\n",
       "      <th>4</th>\n",
       "      <td>1</td>\n",
       "      <td>4</td>\n",
       "      <td>1</td>\n",
       "      <td>2.0</td>\n",
       "      <td>3.0</td>\n",
       "      <td>4.0</td>\n",
       "      <td>5.0</td>\n",
       "      <td>6.0</td>\n",
       "      <td>4.0</td>\n",
       "      <td>3.0</td>\n",
       "      <td>...</td>\n",
       "      <td>7.0</td>\n",
       "      <td>7.0</td>\n",
       "      <td>8.0</td>\n",
       "      <td>9.0</td>\n",
       "      <td>10.0</td>\n",
       "      <td>11.0</td>\n",
       "      <td>12.0</td>\n",
       "      <td>10.0</td>\n",
       "      <td>9.0</td>\n",
       "      <td>8.0</td>\n",
       "    </tr>\n",
       "  </tbody>\n",
       "</table>\n",
       "<p>5 rows × 67 columns</p>\n",
       "</div>"
      ],
      "text/plain": [
       "   Result  Move  Turn   a1   b1   c1   d1   e1   f1   g1 ...    g7   h7   a8  \\\n",
       "0       1     0     1  2.0  3.0  4.0  5.0  6.0  4.0  3.0 ...   7.0  7.0  8.0   \n",
       "1       1     1     2  2.0  3.0  4.0  5.0  6.0  4.0  3.0 ...   7.0  7.0  8.0   \n",
       "2       1     2     1  2.0  3.0  4.0  5.0  6.0  4.0  3.0 ...   7.0  7.0  8.0   \n",
       "3       1     3     2  2.0  3.0  4.0  5.0  6.0  4.0  3.0 ...   7.0  7.0  8.0   \n",
       "4       1     4     1  2.0  3.0  4.0  5.0  6.0  4.0  3.0 ...   7.0  7.0  8.0   \n",
       "\n",
       "    b8    c8    d8    e8    f8   g8   h8  \n",
       "0  9.0  10.0  11.0  12.0  10.0  9.0  8.0  \n",
       "1  9.0  10.0  11.0  12.0  10.0  9.0  8.0  \n",
       "2  9.0  10.0  11.0  12.0  10.0  9.0  8.0  \n",
       "3  9.0  10.0  11.0  12.0  10.0  9.0  8.0  \n",
       "4  9.0  10.0  11.0  12.0  10.0  9.0  8.0  \n",
       "\n",
       "[5 rows x 67 columns]"
      ]
     },
     "execution_count": 20,
     "metadata": {
      "tags": []
     },
     "output_type": "execute_result"
    }
   ],
   "source": [
    "df.head()"
   ]
  },
  {
   "cell_type": "code",
   "execution_count": 0,
   "metadata": {
    "colab": {
     "base_uri": "https://localhost:8080/",
     "height": 34
    },
    "colab_type": "code",
    "id": "R8TghyOzwuwG",
    "outputId": "d9fc24c6-78b3-46a9-abd4-911b068cfaba"
   },
   "outputs": [
    {
     "data": {
      "text/plain": [
       "(504909, 67)"
      ]
     },
     "execution_count": 21,
     "metadata": {
      "tags": []
     },
     "output_type": "execute_result"
    }
   ],
   "source": [
    "df.shape"
   ]
  },
  {
   "cell_type": "code",
   "execution_count": 0,
   "metadata": {
    "colab": {
     "base_uri": "https://localhost:8080/",
     "height": 34
    },
    "colab_type": "code",
    "id": "pPJHVbnPZSoY",
    "outputId": "bb728984-2e47-4b4c-fd06-71dd01f0b5a7"
   },
   "outputs": [
    {
     "name": "stdout",
     "output_type": "stream",
     "text": [
      "(504909, 67) (378681, 67) (126228, 67)\n"
     ]
    }
   ],
   "source": [
    "df_train, df_test = train_test_split(df)\n",
    "print(df.shape, df_train.shape, df_test.shape)"
   ]
  },
  {
   "cell_type": "code",
   "execution_count": 0,
   "metadata": {
    "colab": {},
    "colab_type": "code",
    "id": "cSSs7MwjcDq5"
   },
   "outputs": [],
   "source": [
    "y_train = df_train[\"Result\"].values\n",
    "y_test = df_test[\"Result\"].values"
   ]
  },
  {
   "cell_type": "code",
   "execution_count": 0,
   "metadata": {
    "colab": {},
    "colab_type": "code",
    "id": "37B_71Prwwss"
   },
   "outputs": [],
   "source": [
    "def translateGameStates(df):\n",
    "  states = []\n",
    "\n",
    "  for position in df.values:\n",
    "    gameState = np.zeros((8, 8, 6))\n",
    "    squares = position[-64:]\n",
    "\n",
    "    for rank in range(8):\n",
    "      for file in range(8):\n",
    "        index = rank * 8 + file\n",
    "        piece = squares[index]\n",
    "\n",
    "        if piece > 6:\n",
    "          gameState[rank][file][int(piece) - 7] = -1\n",
    "        elif piece > 0:\n",
    "          gameState[rank][file][int(piece) - 1] = 1\n",
    "\n",
    "    states.append(gameState)\n",
    "\n",
    "  return np.array(states)"
   ]
  },
  {
   "cell_type": "code",
   "execution_count": 0,
   "metadata": {
    "colab": {
     "base_uri": "https://localhost:8080/",
     "height": 34
    },
    "colab_type": "code",
    "id": "tGHWOu5XcIs3",
    "outputId": "9a2c2135-0ce2-4b0f-b673-83d60c2fdcb9"
   },
   "outputs": [
    {
     "name": "stdout",
     "output_type": "stream",
     "text": [
      "(378681, 8, 8, 6) (126228, 8, 8, 6)\n"
     ]
    }
   ],
   "source": [
    "x_train = translateGameStates(df_train)\n",
    "x_test = translateGameStates(df_test)\n",
    "\n",
    "print(x_train.shape, x_test.shape)"
   ]
  },
  {
   "cell_type": "code",
   "execution_count": 0,
   "metadata": {
    "colab": {
     "base_uri": "https://localhost:8080/",
     "height": 34
    },
    "colab_type": "code",
    "id": "EmokeUSadmGa",
    "outputId": "30ac699b-36bb-4f69-a01d-0cf121925966"
   },
   "outputs": [
    {
     "name": "stdout",
     "output_type": "stream",
     "text": [
      "(8, 8, 6)\n"
     ]
    }
   ],
   "source": [
    "input_shape = x_train[0].shape\n",
    "print(input_shape)"
   ]
  },
  {
   "cell_type": "code",
   "execution_count": 0,
   "metadata": {
    "colab": {},
    "colab_type": "code",
    "id": "bQz8ir9Oed4_"
   },
   "outputs": [],
   "source": [
    "y_train = tensorflow.keras.utils.to_categorical(y_train, 3)\n",
    "y_test = tensorflow.keras.utils.to_categorical(y_test, 3)"
   ]
  },
  {
   "cell_type": "code",
   "execution_count": 0,
   "metadata": {
    "colab": {
     "base_uri": "https://localhost:8080/",
     "height": 68
    },
    "colab_type": "code",
    "id": "S_fHdCeUZfWi",
    "outputId": "b0ef7694-c2aa-472d-a735-8b2964f49ecb"
   },
   "outputs": [
    {
     "name": "stdout",
     "output_type": "stream",
     "text": [
      "[1. 0. 0.] [1. 0. 0.]\n",
      "[0. 1. 0.] [0. 1. 0.]\n",
      "[0. 0. 1.] [0. 0. 1.]\n"
     ]
    }
   ],
   "source": [
    "print(y_test[0], y_test_2[0])\n",
    "print(y_test[-10000], y_test_2[-10000])\n",
    "print(y_test[-1000], y_test_2[-1000])"
   ]
  },
  {
   "cell_type": "code",
   "execution_count": 0,
   "metadata": {
    "colab": {
     "base_uri": "https://localhost:8080/",
     "height": 581
    },
    "colab_type": "code",
    "id": "HhSnqxUQcgzd",
    "outputId": "dac13f62-b784-42be-8471-109f9434aa7f"
   },
   "outputs": [
    {
     "name": "stdout",
     "output_type": "stream",
     "text": [
      "WARNING:tensorflow:From /usr/local/lib/python3.6/dist-packages/tensorflow/python/ops/resource_variable_ops.py:435: colocate_with (from tensorflow.python.framework.ops) is deprecated and will be removed in a future version.\n",
      "Instructions for updating:\n",
      "Colocations handled automatically by placer.\n",
      "WARNING:tensorflow:From /usr/local/lib/python3.6/dist-packages/tensorflow/python/keras/layers/core.py:143: calling dropout (from tensorflow.python.ops.nn_ops) with keep_prob is deprecated and will be removed in a future version.\n",
      "Instructions for updating:\n",
      "Please use `rate` instead of `keep_prob`. Rate should be set to `rate = 1 - keep_prob`.\n",
      "Train on 378681 samples, validate on 126228 samples\n",
      "WARNING:tensorflow:From /usr/local/lib/python3.6/dist-packages/tensorflow/python/ops/math_ops.py:3066: to_int32 (from tensorflow.python.ops.math_ops) is deprecated and will be removed in a future version.\n",
      "Instructions for updating:\n",
      "Use tf.cast instead.\n",
      "Epoch 1/10\n",
      "378681/378681 [==============================] - 26s 68us/sample - loss: 0.9402 - acc: 0.5416 - val_loss: 0.8632 - val_acc: 0.5924\n",
      "Epoch 2/10\n",
      "378681/378681 [==============================] - 23s 61us/sample - loss: 0.8654 - acc: 0.5944 - val_loss: 0.8146 - val_acc: 0.6262\n",
      "Epoch 3/10\n",
      "378681/378681 [==============================] - 24s 63us/sample - loss: 0.8310 - acc: 0.6143 - val_loss: 0.7878 - val_acc: 0.6447\n",
      "Epoch 4/10\n",
      "378681/378681 [==============================] - 23s 61us/sample - loss: 0.8094 - acc: 0.6267 - val_loss: 0.7740 - val_acc: 0.6523\n",
      "Epoch 5/10\n",
      "378681/378681 [==============================] - 23s 61us/sample - loss: 0.7947 - acc: 0.6344 - val_loss: 0.7514 - val_acc: 0.6591\n",
      "Epoch 6/10\n",
      "378681/378681 [==============================] - 24s 63us/sample - loss: 0.7828 - acc: 0.6415 - val_loss: 0.7374 - val_acc: 0.6677\n",
      "Epoch 7/10\n",
      "378681/378681 [==============================] - 23s 61us/sample - loss: 0.7732 - acc: 0.6456 - val_loss: 0.7283 - val_acc: 0.6711\n",
      "Epoch 8/10\n",
      "378681/378681 [==============================] - 23s 61us/sample - loss: 0.7668 - acc: 0.6501 - val_loss: 0.7312 - val_acc: 0.6726\n",
      "Epoch 9/10\n",
      "378681/378681 [==============================] - 23s 61us/sample - loss: 0.7607 - acc: 0.6533 - val_loss: 0.7274 - val_acc: 0.6749\n",
      "Epoch 10/10\n",
      "378681/378681 [==============================] - 23s 61us/sample - loss: 0.7537 - acc: 0.6568 - val_loss: 0.7108 - val_acc: 0.6852\n",
      "Test loss: 0.7108033820734122\n",
      "Test accuracy: 0.6852283\n"
     ]
    }
   ],
   "source": [
    "batch_size = 128\n",
    "num_classes = 3\n",
    "epochs = 10\n",
    "\n",
    "model = Sequential()\n",
    "model.add(Conv2D(32, kernel_size=(3, 3),\n",
    "                 activation='relu',\n",
    "                 input_shape=input_shape))\n",
    "model.add(Conv2D(64, (3, 3), activation='relu'))\n",
    "model.add(MaxPooling2D(pool_size=(2, 2)))\n",
    "model.add(Dropout(0.25))\n",
    "model.add(Flatten())\n",
    "model.add(Dense(128, activation='relu'))\n",
    "model.add(Dropout(0.5))\n",
    "model.add(Dense(num_classes, activation='softmax'))\n",
    "\n",
    "model.summary()\n",
    "\n",
    "model.compile(loss=tensorflow.keras.losses.categorical_crossentropy,\n",
    "              optimizer='adam',\n",
    "              metrics=['accuracy'])\n",
    "\n",
    "model.fit(x_train, y_train,\n",
    "          batch_size=batch_size,\n",
    "          epochs=epochs,\n",
    "          verbose=1,\n",
    "          validation_data=(x_test, y_test))\n",
    "score = model.evaluate(x_test, y_test, verbose=0)\n",
    "print('Test loss:', score[0])\n",
    "print('Test accuracy:', score[1])"
   ]
  },
  {
   "cell_type": "code",
   "execution_count": 0,
   "metadata": {
    "colab": {
     "base_uri": "https://localhost:8080/",
     "height": 68
    },
    "colab_type": "code",
    "id": "i_k1n8kll4Nh",
    "outputId": "4a611031-1ac7-40d8-d788-4fa9f26e2022"
   },
   "outputs": [
    {
     "name": "stdout",
     "output_type": "stream",
     "text": [
      "[[0.69697946 0.1393168  0.16370367]]\n",
      "[[0.08064532 0.8162521  0.10310265]]\n",
      "[[0.07938117 0.17502971 0.7455891 ]]\n"
     ]
    }
   ],
   "source": [
    "a = np.array([x_test[0]]) # 0\n",
    "b = np.array([x_test[-10000]]) # 1\n",
    "c = np.array([x_test[-1000]]) # -1\n",
    "\n",
    "print(model.predict(a))\n",
    "print(model.predict(b))\n",
    "print(model.predict(c))"
   ]
  },
  {
   "cell_type": "code",
   "execution_count": 0,
   "metadata": {
    "colab": {},
    "colab_type": "code",
    "id": "fOpmSa9KhqQ0"
   },
   "outputs": [],
   "source": [
    "model.save('/content/gdrive/My Drive/Colab Notebooks/chess/20190210_convolution.h5')"
   ]
  }
 ],
 "metadata": {
  "accelerator": "GPU",
  "colab": {
   "name": "Deep Learning Convolution.ipynb",
   "provenance": [],
   "version": "0.3.2"
  },
  "kernelspec": {
   "display_name": "Python 3",
   "language": "python",
   "name": "python3"
  },
  "language_info": {
   "codemirror_mode": {
    "name": "ipython",
    "version": 3
   },
   "file_extension": ".py",
   "mimetype": "text/x-python",
   "name": "python",
   "nbconvert_exporter": "python",
   "pygments_lexer": "ipython3",
   "version": "3.7.0"
  }
 },
 "nbformat": 4,
 "nbformat_minor": 1
}
